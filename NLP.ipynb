{
 "cells": [
  {
   "cell_type": "code",
   "execution_count": 1,
   "metadata": {},
   "outputs": [],
   "source": [
    "import nltk"
   ]
  },
  {
   "cell_type": "code",
   "execution_count": 5,
   "metadata": {},
   "outputs": [
    {
     "name": "stdout",
     "output_type": "stream",
     "text": [
      "Requirement already satisfied: nltk in c:\\users\\qzxy8\\anaconda3\\lib\\site-packages (3.5)\n",
      "Requirement already satisfied: click in c:\\users\\qzxy8\\anaconda3\\lib\\site-packages (from nltk) (7.1.2)\n",
      "Requirement already satisfied: joblib in c:\\users\\qzxy8\\anaconda3\\lib\\site-packages (from nltk) (0.17.0)\n",
      "Requirement already satisfied: tqdm in c:\\users\\qzxy8\\anaconda3\\lib\\site-packages (from nltk) (4.50.2)\n",
      "Requirement already satisfied: regex in c:\\users\\qzxy8\\anaconda3\\lib\\site-packages (from nltk) (2020.10.15)\n",
      "Note: you may need to restart the kernel to use updated packages.\n"
     ]
    },
    {
     "name": "stderr",
     "output_type": "stream",
     "text": [
      "WARNING: You are using pip version 21.0.1; however, version 21.2.4 is available.\n",
      "You should consider upgrading via the 'C:\\Users\\qzxy8\\anaconda3\\python.exe -m pip install --upgrade pip' command.\n"
     ]
    }
   ],
   "source": [
    "pip install nltk"
   ]
  },
  {
   "cell_type": "code",
   "execution_count": 6,
   "metadata": {},
   "outputs": [
    {
     "data": {
      "text/plain": [
       "'3.5'"
      ]
     },
     "execution_count": 6,
     "metadata": {},
     "output_type": "execute_result"
    }
   ],
   "source": [
    "nltk.__version__"
   ]
  },
  {
   "cell_type": "code",
   "execution_count": 7,
   "metadata": {},
   "outputs": [
    {
     "name": "stdout",
     "output_type": "stream",
     "text": [
      "showing info https://raw.githubusercontent.com/nltk/nltk_data/gh-pages/index.xml\n"
     ]
    },
    {
     "name": "stderr",
     "output_type": "stream",
     "text": [
      "Exception in thread Thread-9:\n",
      "Traceback (most recent call last):\n",
      "  File \"C:\\Users\\qzxy8\\anaconda3\\lib\\threading.py\", line 932, in _bootstrap_inner\n",
      "    self.run()\n",
      "  File \"C:\\Users\\qzxy8\\anaconda3\\lib\\site-packages\\nltk\\downloader.py\", line 2106, in run\n",
      "    for msg in self.data_server.incr_download(self.items):\n",
      "  File \"C:\\Users\\qzxy8\\anaconda3\\lib\\site-packages\\nltk\\downloader.py\", line 623, in incr_download\n",
      "    for msg in self._download_list(info_or_id, download_dir, force):\n",
      "  File \"C:\\Users\\qzxy8\\anaconda3\\lib\\site-packages\\nltk\\downloader.py\", line 669, in _download_list\n",
      "    for msg in self.incr_download(item, download_dir, force):\n",
      "  File \"C:\\Users\\qzxy8\\anaconda3\\lib\\site-packages\\nltk\\downloader.py\", line 637, in incr_download\n",
      "    for msg in self.incr_download(info.children, download_dir, force):\n",
      "  File \"C:\\Users\\qzxy8\\anaconda3\\lib\\site-packages\\nltk\\downloader.py\", line 623, in incr_download\n",
      "    for msg in self._download_list(info_or_id, download_dir, force):\n",
      "  File \"C:\\Users\\qzxy8\\anaconda3\\lib\\site-packages\\nltk\\downloader.py\", line 669, in _download_list\n",
      "    for msg in self.incr_download(item, download_dir, force):\n",
      "  File \"C:\\Users\\qzxy8\\anaconda3\\lib\\site-packages\\nltk\\downloader.py\", line 643, in incr_download\n",
      "    for msg in self._download_package(info, download_dir, force):\n",
      "  File \"C:\\Users\\qzxy8\\anaconda3\\lib\\site-packages\\nltk\\downloader.py\", line 737, in _download_package\n",
      "    for msg in _unzip_iter(filepath, zipdir, verbose=False):\n",
      "  File \"C:\\Users\\qzxy8\\anaconda3\\lib\\site-packages\\nltk\\downloader.py\", line 2252, in _unzip_iter\n",
      "    zf.extractall(root)\n",
      "  File \"C:\\Users\\qzxy8\\anaconda3\\lib\\zipfile.py\", line 1647, in extractall\n",
      "    self._extract_member(zipinfo, path, pwd)\n",
      "  File \"C:\\Users\\qzxy8\\anaconda3\\lib\\zipfile.py\", line 1702, in _extract_member\n",
      "    shutil.copyfileobj(source, target)\n",
      "  File \"C:\\Users\\qzxy8\\anaconda3\\lib\\shutil.py\", line 205, in copyfileobj\n",
      "    fdst_write(buf)\n",
      "OSError: [Errno 28] No space left on device\n"
     ]
    },
    {
     "data": {
      "text/plain": [
       "True"
      ]
     },
     "execution_count": 7,
     "metadata": {},
     "output_type": "execute_result"
    }
   ],
   "source": [
    "nltk.download()"
   ]
  },
  {
   "cell_type": "code",
   "execution_count": 8,
   "metadata": {},
   "outputs": [
    {
     "name": "stdout",
     "output_type": "stream",
     "text": [
      "Requirement already satisfied: konlpy in c:\\users\\qzxy8\\anaconda3\\lib\\site-packages (0.5.2)\n",
      "Requirement already satisfied: colorama in c:\\users\\qzxy8\\anaconda3\\lib\\site-packages (from konlpy) (0.4.4)\n",
      "Requirement already satisfied: lxml>=4.1.0 in c:\\users\\qzxy8\\anaconda3\\lib\\site-packages (from konlpy) (4.6.1)\n",
      "Requirement already satisfied: JPype1>=0.7.0 in c:\\users\\qzxy8\\anaconda3\\lib\\site-packages (from konlpy) (1.2.0)\n",
      "Requirement already satisfied: numpy>=1.6 in c:\\users\\qzxy8\\anaconda3\\lib\\site-packages (from konlpy) (1.19.5)\n",
      "Requirement already satisfied: tweepy>=3.7.0 in c:\\users\\qzxy8\\anaconda3\\lib\\site-packages (from konlpy) (3.10.0)\n",
      "Requirement already satisfied: beautifulsoup4==4.6.0 in c:\\users\\qzxy8\\anaconda3\\lib\\site-packages (from konlpy) (4.6.0)\n",
      "Note: you may need to restart the kernel to use updated packages.Requirement already satisfied: requests-oauthlib>=0.7.0 in c:\\users\\qzxy8\\anaconda3\\lib\\site-packages (from tweepy>=3.7.0->konlpy) (1.3.0)\n",
      "Requirement already satisfied: requests[socks]>=2.11.1 in c:\\users\\qzxy8\\anaconda3\\lib\\site-packages (from tweepy>=3.7.0->konlpy) (2.24.0)\n",
      "Requirement already satisfied: six>=1.10.0 in c:\\users\\qzxy8\\anaconda3\\lib\\site-packages (from tweepy>=3.7.0->konlpy) (1.15.0)\n",
      "Requirement already satisfied: oauthlib>=3.0.0 in c:\\users\\qzxy8\\anaconda3\\lib\\site-packages (from requests-oauthlib>=0.7.0->tweepy>=3.7.0->konlpy) (3.1.0)\n",
      "Requirement already satisfied: certifi>=2017.4.17 in c:\\users\\qzxy8\\anaconda3\\lib\\site-packages (from requests[socks]>=2.11.1->tweepy>=3.7.0->konlpy) (2020.6.20)\n",
      "Requirement already satisfied: chardet<4,>=3.0.2 in c:\\users\\qzxy8\\anaconda3\\lib\\site-packages (from requests[socks]>=2.11.1->tweepy>=3.7.0->konlpy) (3.0.4)\n",
      "Requirement already satisfied: idna<3,>=2.5 in c:\\users\\qzxy8\\anaconda3\\lib\\site-packages (from requests[socks]>=2.11.1->tweepy>=3.7.0->konlpy) (2.10)\n",
      "Requirement already satisfied: urllib3!=1.25.0,!=1.25.1,<1.26,>=1.21.1 in c:\\users\\qzxy8\\anaconda3\\lib\\site-packages (from requests[socks]>=2.11.1->tweepy>=3.7.0->konlpy) (1.25.11)\n",
      "Requirement already satisfied: PySocks!=1.5.7,>=1.5.6 in c:\\users\\qzxy8\\anaconda3\\lib\\site-packages (from requests[socks]>=2.11.1->tweepy>=3.7.0->konlpy) (1.7.1)\n"
     ]
    },
    {
     "name": "stderr",
     "output_type": "stream",
     "text": [
      "WARNING: You are using pip version 21.0.1; however, version 21.2.4 is available.\n",
      "You should consider upgrading via the 'C:\\Users\\qzxy8\\anaconda3\\python.exe -m pip install --upgrade pip' command.\n"
     ]
    },
    {
     "name": "stdout",
     "output_type": "stream",
     "text": [
      "\n"
     ]
    }
   ],
   "source": [
    "pip install konlpy"
   ]
  },
  {
   "cell_type": "code",
   "execution_count": 9,
   "metadata": {},
   "outputs": [],
   "source": [
    "import konlpy"
   ]
  },
  {
   "cell_type": "code",
   "execution_count": 10,
   "metadata": {},
   "outputs": [
    {
     "data": {
      "text/plain": [
       "'0.5.2'"
      ]
     },
     "execution_count": 10,
     "metadata": {},
     "output_type": "execute_result"
    }
   ],
   "source": [
    "konlpy.__version__"
   ]
  },
  {
   "cell_type": "code",
   "execution_count": 11,
   "metadata": {},
   "outputs": [],
   "source": [
    "import tensorflow as tf"
   ]
  },
  {
   "cell_type": "code",
   "execution_count": 12,
   "metadata": {},
   "outputs": [
    {
     "data": {
      "text/plain": [
       "'2.4.1'"
      ]
     },
     "execution_count": 12,
     "metadata": {},
     "output_type": "execute_result"
    }
   ],
   "source": [
    "tf.__version__"
   ]
  },
  {
   "cell_type": "code",
   "execution_count": 13,
   "metadata": {},
   "outputs": [
    {
     "ename": "NameError",
     "evalue": "name 'keras' is not defined",
     "output_type": "error",
     "traceback": [
      "\u001b[1;31m---------------------------------------------------------------------------\u001b[0m",
      "\u001b[1;31mNameError\u001b[0m                                 Traceback (most recent call last)",
      "\u001b[1;32m<ipython-input-13-77d8d067b4a7>\u001b[0m in \u001b[0;36m<module>\u001b[1;34m\u001b[0m\n\u001b[1;32m----> 1\u001b[1;33m \u001b[0mkeras\u001b[0m\u001b[1;33m.\u001b[0m\u001b[0m__version__\u001b[0m\u001b[1;33m\u001b[0m\u001b[1;33m\u001b[0m\u001b[0m\n\u001b[0m",
      "\u001b[1;31mNameError\u001b[0m: name 'keras' is not defined"
     ]
    }
   ],
   "source": [
    "keras.__version__"
   ]
  },
  {
   "cell_type": "code",
   "execution_count": 14,
   "metadata": {},
   "outputs": [],
   "source": [
    "import keras"
   ]
  },
  {
   "cell_type": "code",
   "execution_count": 15,
   "metadata": {},
   "outputs": [
    {
     "data": {
      "text/plain": [
       "'2.4.3'"
      ]
     },
     "execution_count": 15,
     "metadata": {},
     "output_type": "execute_result"
    }
   ],
   "source": [
    "keras.__version__"
   ]
  },
  {
   "cell_type": "code",
   "execution_count": 16,
   "metadata": {},
   "outputs": [],
   "source": [
    "import pandas as pd"
   ]
  },
  {
   "cell_type": "code",
   "execution_count": 17,
   "metadata": {},
   "outputs": [],
   "source": [
    "sr = pd.Series([17000, 18000, 1000, 5000], index = ['피자','치킨','콜라','맥주'])"
   ]
  },
  {
   "cell_type": "code",
   "execution_count": 18,
   "metadata": {},
   "outputs": [
    {
     "name": "stdout",
     "output_type": "stream",
     "text": [
      "피자    17000\n",
      "치킨    18000\n",
      "콜라     1000\n",
      "맥주     5000\n",
      "dtype: int64\n"
     ]
    }
   ],
   "source": [
    "print(sr)"
   ]
  },
  {
   "cell_type": "code",
   "execution_count": 19,
   "metadata": {},
   "outputs": [
    {
     "name": "stdout",
     "output_type": "stream",
     "text": [
      "[17000 18000  1000  5000]\n"
     ]
    }
   ],
   "source": [
    "print(sr.values)"
   ]
  },
  {
   "cell_type": "code",
   "execution_count": 20,
   "metadata": {},
   "outputs": [
    {
     "name": "stdout",
     "output_type": "stream",
     "text": [
      "Index(['피자', '치킨', '콜라', '맥주'], dtype='object')\n"
     ]
    }
   ],
   "source": [
    "print(sr.index)"
   ]
  },
  {
   "cell_type": "code",
   "execution_count": 21,
   "metadata": {},
   "outputs": [],
   "source": [
    "values = [[1,2,3],[4,5,6],[7,8,9]]\n",
    "index = ['one','two','three']\n",
    "columns = ['A','B','C']"
   ]
  },
  {
   "cell_type": "code",
   "execution_count": 22,
   "metadata": {},
   "outputs": [
    {
     "name": "stdout",
     "output_type": "stream",
     "text": [
      "       A  B  C\n",
      "one    1  2  3\n",
      "two    4  5  6\n",
      "three  7  8  9\n"
     ]
    }
   ],
   "source": [
    "df = pd.DataFrame(values, index=index, columns=columns)\n",
    "print(df)"
   ]
  },
  {
   "cell_type": "code",
   "execution_count": 24,
   "metadata": {},
   "outputs": [],
   "source": [
    "import numpy as np"
   ]
  },
  {
   "cell_type": "code",
   "execution_count": 25,
   "metadata": {},
   "outputs": [],
   "source": [
    "x = np.array([1,2,3])\n",
    "y = np.array([4,5,6])"
   ]
  },
  {
   "cell_type": "code",
   "execution_count": 26,
   "metadata": {},
   "outputs": [
    {
     "name": "stdout",
     "output_type": "stream",
     "text": [
      "[5 7 9]\n"
     ]
    }
   ],
   "source": [
    "b = x + y\n",
    "print(b)"
   ]
  },
  {
   "cell_type": "code",
   "execution_count": 27,
   "metadata": {},
   "outputs": [
    {
     "name": "stdout",
     "output_type": "stream",
     "text": [
      "[ 4 10 18]\n"
     ]
    }
   ],
   "source": [
    "b = x * y\n",
    "print(b)"
   ]
  },
  {
   "cell_type": "code",
   "execution_count": 28,
   "metadata": {},
   "outputs": [
    {
     "name": "stdout",
     "output_type": "stream",
     "text": [
      "[0.25 0.4  0.5 ]\n"
     ]
    }
   ],
   "source": [
    "b = x / y\n",
    "print(b)"
   ]
  },
  {
   "cell_type": "code",
   "execution_count": 29,
   "metadata": {},
   "outputs": [],
   "source": [
    "import matplotlib.pyplot as plt"
   ]
  },
  {
   "cell_type": "code",
   "execution_count": 30,
   "metadata": {},
   "outputs": [
    {
     "data": {
      "image/png": "[encoded data removed]",
      "text/plain": [
       "<Figure size 432x288 with 1 Axes>"
      ]
     },
     "metadata": {
      "needs_background": "light"
     },
     "output_type": "display_data"
    }
   ],
   "source": [
    "plt.title('test')\n",
    "plt.plot([1,2,3,4],[2,4,8,6])\n",
    "plt.xlabel('hours')\n",
    "plt.ylabel('score')\n",
    "plt.show()"
   ]
  },
  {
   "cell_type": "code",
   "execution_count": 31,
   "metadata": {},
   "outputs": [],
   "source": [
    "import nltk"
   ]
  },
  {
   "cell_type": "code",
   "execution_count": 32,
   "metadata": {},
   "outputs": [],
   "source": [
    "sentence = \"Seoul is the capital of korea.\""
   ]
  },
  {
   "cell_type": "code",
   "execution_count": 36,
   "metadata": {},
   "outputs": [
    {
     "name": "stdout",
     "output_type": "stream",
     "text": [
      "showing info https://raw.githubusercontent.com/nltk/nltk_data/gh-pages/index.xml\n"
     ]
    },
    {
     "data": {
      "text/plain": [
       "True"
      ]
     },
     "execution_count": 36,
     "metadata": {},
     "output_type": "execute_result"
    }
   ],
   "source": [
    "nltk.download()"
   ]
  },
  {
   "cell_type": "code",
   "execution_count": 37,
   "metadata": {},
   "outputs": [],
   "source": [
    "sentence = \"Seoul is the capital of korea.\""
   ]
  },
  {
   "cell_type": "code",
   "execution_count": 38,
   "metadata": {},
   "outputs": [],
   "source": [
    "wordsInSent = nltk.word_tokenize(sentence)"
   ]
  },
  {
   "cell_type": "code",
   "execution_count": 39,
   "metadata": {},
   "outputs": [
    {
     "name": "stdout",
     "output_type": "stream",
     "text": [
      "['Seoul', 'is', 'the', 'capital', 'of', 'korea', '.']\n"
     ]
    }
   ],
   "source": [
    "print(wordsInSent)"
   ]
  },
  {
   "cell_type": "code",
   "execution_count": 40,
   "metadata": {},
   "outputs": [],
   "source": [
    "partOfSent = nltk.pos_tag(wordsInSent)"
   ]
  },
  {
   "cell_type": "code",
   "execution_count": 41,
   "metadata": {},
   "outputs": [
    {
     "name": "stdout",
     "output_type": "stream",
     "text": [
      "[('Seoul', 'NNP'), ('is', 'VBZ'), ('the', 'DT'), ('capital', 'NN'), ('of', 'IN'), ('korea', 'NN'), ('.', '.')]\n"
     ]
    }
   ],
   "source": [
    "print(partOfSent)"
   ]
  },
  {
   "cell_type": "code",
   "execution_count": 1,
   "metadata": {},
   "outputs": [],
   "source": [
    "from konlpy.tag import Kkma"
   ]
  },
  {
   "cell_type": "code",
   "execution_count": 2,
   "metadata": {},
   "outputs": [],
   "source": [
    "Kkma = Kkma()"
   ]
  },
  {
   "cell_type": "code",
   "execution_count": 3,
   "metadata": {},
   "outputs": [],
   "source": [
    "sentence = \"서울은 한국의 수도라고 하던데.\""
   ]
  },
  {
   "cell_type": "code",
   "execution_count": 5,
   "metadata": {},
   "outputs": [
    {
     "name": "stdout",
     "output_type": "stream",
     "text": [
      "['서울', '한국', '수도']\n"
     ]
    }
   ],
   "source": [
    "print(Kkma.nouns(sentence))"
   ]
  },
  {
   "cell_type": "code",
   "execution_count": 6,
   "metadata": {},
   "outputs": [
    {
     "name": "stdout",
     "output_type": "stream",
     "text": [
      "[('서울', 'NNG'), ('은', 'JX'), ('한국', 'NNG'), ('의', 'JKG'), ('수도', 'NNG'), ('라고', 'JX'), ('하', 'VV'), ('던데', 'ECD'), ('.', 'SF')]\n"
     ]
    }
   ],
   "source": [
    "print(Kkma.pos(sentence))"
   ]
  },
  {
   "cell_type": "code",
   "execution_count": 7,
   "metadata": {},
   "outputs": [],
   "source": [
    "from nltk.tokenize import word_tokenize"
   ]
  },
  {
   "cell_type": "code",
   "execution_count": 8,
   "metadata": {},
   "outputs": [
    {
     "name": "stdout",
     "output_type": "stream",
     "text": [
      "['Do', \"n't\", 'be', 'fooled', 'by', 'the', 'dark', 'sounding', 'name', ',', 'Mr.Jone', \"'s\", 'Orphanage', 'is', 'as', 'cheery', 'as', 'cheery', 'goes', 'for', 'a', 'pastry', 'shop', '.']\n"
     ]
    }
   ],
   "source": [
    "print(word_tokenize(\"Don't be fooled by the dark sounding name, Mr.Jone's Orphanage is as cheery as cheery goes for a pastry shop.\"))"
   ]
  },
  {
   "cell_type": "code",
   "execution_count": 9,
   "metadata": {},
   "outputs": [],
   "source": [
    "from nltk.tokenize import WordPunctTokenizer"
   ]
  },
  {
   "cell_type": "code",
   "execution_count": 10,
   "metadata": {},
   "outputs": [
    {
     "name": "stdout",
     "output_type": "stream",
     "text": [
      "['Don', \"'\", 't', 'be', 'fooled', 'by', 'the', 'dark', 'sounding', 'name', ',', 'Mr', '.', 'Jone', \"'\", 's', 'Orphanage', 'is', 'as', 'cheery', 'as', 'cheery', 'goes', 'for', 'a', 'pastry', 'shop', '.']\n"
     ]
    }
   ],
   "source": [
    "print(WordPunctTokenizer().tokenize(\"Don't be fooled by the dark sounding name, Mr.Jone's Orphanage is as cheery as cheery goes for a pastry shop.\"))"
   ]
  },
  {
   "cell_type": "code",
   "execution_count": 3,
   "metadata": {},
   "outputs": [
    {
     "name": "stdout",
     "output_type": "stream",
     "text": [
      "Requirement already satisfied: pip in c:\\users\\qzxy8\\anaconda3\\lib\\site-packages (21.0.1)\n",
      "Collecting pip\n",
      "  Downloading pip-21.2.4-py3-none-any.whl (1.6 MB)\n",
      "Installing collected packages: pip\n",
      "  Attempting uninstall: pip\n",
      "    Found existing installation: pip 21.0.1\n",
      "    Uninstalling pip-21.0.1:\n",
      "      Successfully uninstalled pip-21.0.1\n",
      "Successfully installed pip-21.2.4\n",
      "Note: you may need to restart the kernel to use updated packages.\n"
     ]
    }
   ],
   "source": [
    "pip install --upgrade pip"
   ]
  },
  {
   "cell_type": "code",
   "execution_count": 3,
   "metadata": {},
   "outputs": [],
   "source": [
    "from nltk.tokenize import word_tokenize"
   ]
  },
  {
   "cell_type": "code",
   "execution_count": 4,
   "metadata": {},
   "outputs": [],
   "source": [
    "from nltk.tag import pos_tag"
   ]
  },
  {
   "cell_type": "code",
   "execution_count": 5,
   "metadata": {},
   "outputs": [],
   "source": [
    "text = \"I am actively looking for Ph.D. students. and you are a Ph.D. student.\""
   ]
  },
  {
   "cell_type": "code",
   "execution_count": 6,
   "metadata": {},
   "outputs": [],
   "source": [
    "x = word_tokenize(text)"
   ]
  },
  {
   "cell_type": "code",
   "execution_count": 7,
   "metadata": {},
   "outputs": [
    {
     "data": {
      "text/plain": [
       "[('I', 'PRP'),\n",
       " ('am', 'VBP'),\n",
       " ('actively', 'RB'),\n",
       " ('looking', 'VBG'),\n",
       " ('for', 'IN'),\n",
       " ('Ph.D.', 'NNP'),\n",
       " ('students', 'NNS'),\n",
       " ('.', '.'),\n",
       " ('and', 'CC'),\n",
       " ('you', 'PRP'),\n",
       " ('are', 'VBP'),\n",
       " ('a', 'DT'),\n",
       " ('Ph.D.', 'NNP'),\n",
       " ('student', 'NN'),\n",
       " ('.', '.')]"
      ]
     },
     "execution_count": 7,
     "metadata": {},
     "output_type": "execute_result"
    }
   ],
   "source": [
    "pos_tag(x)"
   ]
  },
  {
   "cell_type": "code",
   "execution_count": 8,
   "metadata": {},
   "outputs": [],
   "source": [
    "from konlpy.tag import Kkma"
   ]
  },
  {
   "cell_type": "code",
   "execution_count": 9,
   "metadata": {},
   "outputs": [],
   "source": [
    "kkma = Kkma()"
   ]
  },
  {
   "cell_type": "code",
   "execution_count": 10,
   "metadata": {},
   "outputs": [
    {
     "name": "stdout",
     "output_type": "stream",
     "text": [
      "['열심히', '코딩', '하', 'ㄴ', '당신', ',', '연휴', '에', '는', '여행', '을', '가보', '아요']\n"
     ]
    }
   ],
   "source": [
    "print(kkma.morphs(\"열심히 코딩한 당신, 연휴에는 여행을 가봐요\"))"
   ]
  },
  {
   "cell_type": "code",
   "execution_count": 11,
   "metadata": {},
   "outputs": [
    {
     "name": "stdout",
     "output_type": "stream",
     "text": [
      "[('열심히', 'MAG'), ('코딩', 'NNG'), ('하', 'XSV'), ('ㄴ', 'ETD'), ('당신', 'NP'), (',', 'SP'), ('연휴', 'NNG'), ('에', 'JKM'), ('는', 'JX'), ('여행', 'NNG'), ('을', 'JKO'), ('가보', 'VV'), ('아요', 'EFN')]\n"
     ]
    }
   ],
   "source": [
    "print(kkma.pos(\"열심히 코딩한 당신, 연휴에는 여행을 가봐요\"))"
   ]
  },
  {
   "cell_type": "code",
   "execution_count": 12,
   "metadata": {},
   "outputs": [
    {
     "name": "stdout",
     "output_type": "stream",
     "text": [
      "['코딩', '당신', '연휴', '여행']\n"
     ]
    }
   ],
   "source": [
    "print(kkma.nouns(\"열심히 코딩한 당신, 연휴에는 여행을 가봐요\"))"
   ]
  },
  {
   "cell_type": "code",
   "execution_count": 13,
   "metadata": {},
   "outputs": [],
   "source": [
    "from nltk.corpus import stopwords"
   ]
  },
  {
   "cell_type": "code",
   "execution_count": 14,
   "metadata": {},
   "outputs": [
    {
     "data": {
      "text/plain": [
       "['i', 'me', 'my', 'myself', 'we', 'our', 'ours', 'ourselves', 'you', \"you're\"]"
      ]
     },
     "execution_count": 14,
     "metadata": {},
     "output_type": "execute_result"
    }
   ],
   "source": [
    "stopwords.words('english')[:10]"
   ]
  },
  {
   "cell_type": "code",
   "execution_count": 15,
   "metadata": {},
   "outputs": [],
   "source": [
    "import re"
   ]
  },
  {
   "cell_type": "code",
   "execution_count": 18,
   "metadata": {},
   "outputs": [
    {
     "data": {
      "text/plain": [
       "<re.Match object; span=(8, 10), match='at'>"
      ]
     },
     "execution_count": 18,
     "metadata": {},
     "output_type": "execute_result"
    }
   ],
   "source": [
    "re.search(\"at\",\"string data\")"
   ]
  },
  {
   "cell_type": "code",
   "execution_count": 19,
   "metadata": {},
   "outputs": [],
   "source": [
    "re.search(\"at\",\"this is another string\")"
   ]
  },
  {
   "cell_type": "code",
   "execution_count": 20,
   "metadata": {},
   "outputs": [],
   "source": [
    "r1 = re.compile(\"at\")"
   ]
  },
  {
   "cell_type": "code",
   "execution_count": 21,
   "metadata": {},
   "outputs": [
    {
     "data": {
      "text/plain": [
       "<re.Match object; span=(8, 10), match='at'>"
      ]
     },
     "execution_count": 21,
     "metadata": {},
     "output_type": "execute_result"
    }
   ],
   "source": [
    "r1.search(\"string data\")"
   ]
  },
  {
   "cell_type": "code",
   "execution_count": 22,
   "metadata": {},
   "outputs": [],
   "source": [
    "text = \"\"\"100 John PROF\n",
    "101 James STUD\n",
    "102 Mac STUD\"\"\""
   ]
  },
  {
   "cell_type": "code",
   "execution_count": 23,
   "metadata": {},
   "outputs": [],
   "source": [
    "x1=re.split('\\s+',text)"
   ]
  },
  {
   "cell_type": "code",
   "execution_count": 24,
   "metadata": {},
   "outputs": [
    {
     "name": "stdout",
     "output_type": "stream",
     "text": [
      "['100', 'John', 'PROF', '101', 'James', 'STUD', '102', 'Mac', 'STUD']\n"
     ]
    }
   ],
   "source": [
    "print(x1)"
   ]
  },
  {
   "cell_type": "code",
   "execution_count": 25,
   "metadata": {},
   "outputs": [],
   "source": [
    "from konlpy.tag import Okt"
   ]
  },
  {
   "cell_type": "code",
   "execution_count": 26,
   "metadata": {},
   "outputs": [],
   "source": [
    "okt = Okt()"
   ]
  },
  {
   "cell_type": "code",
   "execution_count": 27,
   "metadata": {},
   "outputs": [],
   "source": [
    "token = okt.morphs(\"나는 자연어 처리를 배운다\")"
   ]
  },
  {
   "cell_type": "code",
   "execution_count": 28,
   "metadata": {},
   "outputs": [
    {
     "name": "stdout",
     "output_type": "stream",
     "text": [
      "['나', '는', '자연어', '처리', '를', '배운다']\n"
     ]
    }
   ],
   "source": [
    "print(token)"
   ]
  },
  {
   "cell_type": "code",
   "execution_count": 29,
   "metadata": {},
   "outputs": [],
   "source": [
    "word2index = {}"
   ]
  },
  {
   "cell_type": "code",
   "execution_count": 30,
   "metadata": {},
   "outputs": [],
   "source": [
    "for voca in token:\n",
    "    if voca not in word2index.keys():\n",
    "        word2index[voca]=len(word2index)"
   ]
  },
  {
   "cell_type": "code",
   "execution_count": 31,
   "metadata": {},
   "outputs": [
    {
     "name": "stdout",
     "output_type": "stream",
     "text": [
      "{'나': 0, '는': 1, '자연어': 2, '처리': 3, '를': 4, '배운다': 5}\n"
     ]
    }
   ],
   "source": [
    "print(word2index)"
   ]
  },
  {
   "cell_type": "code",
   "execution_count": 32,
   "metadata": {},
   "outputs": [],
   "source": [
    "def one_hot_encoding(word, word2index):\n",
    "    one_hot_vector = [0]*(len(word2index))\n",
    "    index=word2index[word]\n",
    "    one_hot_vector[index]=1\n",
    "    return one_hot_vector\n"
   ]
  },
  {
   "cell_type": "code",
   "execution_count": 33,
   "metadata": {},
   "outputs": [
    {
     "data": {
      "text/plain": [
       "[0, 0, 1, 0, 0, 0]"
      ]
     },
     "execution_count": 33,
     "metadata": {},
     "output_type": "execute_result"
    }
   ],
   "source": [
    "one_hot_encoding(\"자연어\",word2index)"
   ]
  },
  {
   "cell_type": "code",
   "execution_count": 1,
   "metadata": {},
   "outputs": [],
   "source": [
    "from konlpy.tag import Kkma\n",
    "from collections import Counter"
   ]
  },
  {
   "cell_type": "code",
   "execution_count": 2,
   "metadata": {},
   "outputs": [],
   "source": [
    "infile = open(\"C:/Users/qzxy8/Downloads/소나기.txt\", encoding='utf-8')"
   ]
  },
  {
   "cell_type": "code",
   "execution_count": 3,
   "metadata": {},
   "outputs": [],
   "source": [
    "data = infile.read()"
   ]
  },
  {
   "cell_type": "code",
   "execution_count": 4,
   "metadata": {},
   "outputs": [
    {
     "name": "stdout",
     "output_type": "stream",
     "text": [
      "﻿소년은 개울가에서 소녀를 보자 곧 윤 초시네 증손녀(曾孫女)딸이라는 걸 알 수 있었다. 소녀는 개울에다 손을 잠그고 물장난을 하고 있는 것이다. 서울서는 이런 개울물을 보지 못하기나 한 듯이.\n",
      "\n",
      "벌써 며칠째 소녀는, 학교에서 돌아오는 길에 물장난이었다. 그런데, 어제까지 개울 기슭에서 하더니, 오늘은 징검다리 한가운데 앉아서 하고 있다.\n",
      "\n",
      "소년은 개울둑에 앉아 버렸다. 소녀가 비키기를 기다리자는 것이다.\n",
      "요행 지나가는 사람이 있어, 소녀가 길을 비켜 주었다.\n",
      "다음 날은 좀 늦게 개울가로 나왔다.\n",
      "이 날은 소녀가 징검다리 한가운데 앉아 세수를 하고 있었다. 분홍 스웨터 소매를 걷어올린 목덜미가 마냥 희었다.\n",
      "\n",
      "한참 세수를 하고 나더니, 이번에는 물속을 빤히 들여다본다. 얼굴이라도 비추어 보는 것이리라.\n",
      "\n",
      "갑자기 물을 움켜 낸다. 고기 새끼라도 지나가는 듯.\n",
      "\n",
      "소녀는 소년이 개울둑에 앉아 있는 걸 아는지 모르는지 그냥 날쌔게 물만 움켜 낸다. 그러나, 번번이 허탕이다. 그대로 재미있는 양, 자꾸 물만 움킨다. 어제처럼 개울을 건너는 사람이 있어야 길을 비킬 모양이다. 그러다가 소녀가 물 속에서 무엇을 하나 집어낸다. 하얀 조약돌이었다. 그리고는 벌떡 일어나 팔짝팔짝 징검다리를 뛰어 건너간다.\n",
      "\n",
      "다 건너가더니만 홱 이리로 돌아서며, \"이 바보.\" 조약돌이 날아왔다.\n",
      "소년은 저도 모르게 벌떡 일어섰다.\n",
      "단발 머리를 나풀거리며 소녀가 막 달린다. 갈밭 사잇길로 들어섰다. 뒤에는 청량한 가을 햇살 아래 빛나는 갈꽃뿐.\n",
      "이제 저쯤 갈밭머리로 소녀가 나타나리라. 꽤 오랜 시간이 지났다고 생각됐다. 그런데도 소녀는 나타나지 않는다. 발돋움을 했다. 그러고도 상당한 시간이 지났다고 생각됐다.\n",
      "\n",
      "저 쪽 갈밭머리에 갈꽃이 한 옴큼 움직였다. 소녀가 갈꽃을 안고 있었다. 그리고, 이제는 천천한 걸음이었다. 유난히 맑은 가을 햇살이 소녀의 갈꽃머리에서 반짝거렸다. 소녀 아닌 갈꽃이 들길을 걸어가는 것만 같았다. \n",
      "소년은 이 갈꽃이 아주 뵈지 않게 되기까지 그대로 서 있었다. 문득, 소녀가 던지 조약돌을 내려 다 보았다. 물기가 걷혀 있었다. 소년은 조약돌을 집어 주머니에 넣었다.\n",
      "\n",
      "다음 날부터 좀더 늦게 개울가로 나왔다. 소녀의 그림자가 뵈지 않았다. 다행이었다.\n",
      "그러나, 이상한 일이었다. 소녀의 그림자가 뵈지 않는 날이 계속될수록 소년의 가슴 한 구석에는 어딘가 허전함이 자리 잡는 것이었다. 주머니 속 조약돌을 주무르는 버릇이 생겼다.\n",
      "\n",
      "그러한 어떤 날, 소년은 전에 소녀가 앉아 물장난을 하던 징검다리 한가운데에 앉아 보았다. 물속에 손을 잠갔다. 세수를 하였다. 물 속을 들여다보았다. 검게 탄 얼굴이 그대로 비치었다. 싫었다.\n",
      "\n",
      "소년은 두 손으로 물 속의 얼굴을 움키었다. 몇 번이고 움키었다. 그러다가 깜짝 놀라 일어나고 말았다. 소녀가 이리로 건너오고 있지 않느냐.\n",
      "'숨어서 내가 하는 일을 엿보고 있었구나.' 소년은 달리기를 시작했다. 디딤돌을 헛디뎠다. 한 발이 물속에 빠졌다. 더 달렸다.\n",
      "몸을 가릴 데가 있어 줬으면 좋겠다. 이 쪽 길에는 갈밭도 없다. 메밀밭이다. 전에 없이 메밀꽃 냄새가 짜릿하게 코를 찌른다고 생각됐다. 미간이 아찔했다. 찝찔한 액체가 입술에 흘러들었다. \n",
      "\n",
      "코피였다.\n",
      "\n",
      "소년은 한 손으로 코피를 훔쳐내면서 그냥 달렸다. 어디선가 '바보, 바보' 하는 소리가 자꾸만 뒤따라 오는 것 같았다. \n",
      "\n",
      "토요일이었다.\n",
      "\n",
      "개울가에 이르니, 며칠째 보이지 않던 소녀가 건너편 가에 앉아 물장난을 하고 있었다. 모르는 체 징검다리를 건너기 시작했다. 얼마 전에 소녀 앞에서 한 번 실수를 했을 뿐, 여태 큰길 가듯이 건너던 징검다리를 오늘은 조심스럽게 건넌다.\n",
      "\n",
      "\"얘.\"\n",
      "못 들은 체했다. 둑 위로 올라섰다.\n",
      "\"얘, 이게 무슨 조개지?\"\n",
      "자기도 모르게 돌아섰다. 소녀의 맑고 검은 눈과 마주쳤다. 얼른 소녀의 손바닥으로 눈을 떨구었다.\n",
      "\"비단조개.\"\n",
      "\"이름도 참 곱다.\"\n",
      "갈림길에 왔다. 여기서 소녀는 아래편으로 한 삼 마장쯤, 소년은 우대로 한 십 리 가까운 길을 가야한다.\n",
      "소녀가 걸음을 멈추며, \"너, 저 산 너머에 가 본 일 있니?\"\n",
      "벌 끝을 가리켰다.\n",
      "\"없다.\"\n",
      "\"우리, 가보지 않으련? 시골 오니까 혼자서 심심해 못 견디겠다.\" \"저래 봬도 멀다.\"\n",
      "\"멀면 얼마나 멀기에? 서울 있을 땐 사뭇 먼 데까지 소풍 갔었다.\" 소녀의 눈이 금새 '바보,바보,'할 것 만 같았다.\n",
      "논 사잇길로 들어섰다. 벼 가을걷이하는 곁을 지났다.\n",
      "허수아비가 서 있었다. 소년이 새끼줄을 흔들었다. 참새가 몇 마리 날아간다. '참, 오늘은 일찍 집으로 돌아가 텃논의 참새를 봐야 할걸.' 하는 생각이 든다.\n",
      "\"야, 재밌다!\"\n",
      "소녀가 허수아비 줄을 잡더니 흔들어 댄다. 허수아비가 자꾸 우쭐거리며 춤을 춘다. 소녀의 왼쪽 볼에 살포시 보조개가 패었다.\n",
      "저만큼 허수아비가 또 서 있다. 소녀가 그리로 달려간다. 그 뒤를 소년도 달렸다. 오늘 같은 날은 일찍 집으로 돌아가 집안일을 도와야 한다는 생각을 잊어버리기라도 하려는 듯이.\n",
      "소녀의 곁을 스쳐 그냥 달린다. 메뚜기가 따끔따끔 얼굴에 와 부딪친다. 쪽빛으로 한껏 갠 가을 하늘이 소년의 눈앞에서 맴을 돈다. 어지럽다. 저놈의 독수리, 저놈의 독수리, 저놈의 독수리가 맴을 돌고 있기 때문이다.\n",
      "돌아다보니, 소녀는 지금 자기가 지나쳐 온 허수아비를 흔들고 있다. 좀 전 허수아비보다 더 우쭐거린다.\n",
      "논이 끝난 곳에 도랑이 하나 있었다. 소녀가 먼저 뛰어 건넜다.\n",
      "거기서부터 산 밑까지는 밭이었다.\n",
      "수숫단을 세워 놓은 밭머리를 지났다.\n",
      "\"저게 뭐니?\"\n",
      "\"원두막.\"\n",
      "\"여기 참외, 맛있니?\"\n",
      "\"그럼, 참외 맛도 좋지만 수박 맛은 더 좋다.\"\n",
      "\"하나 먹어 봤으면.\"\n",
      "소년이 참외 그루에 심은 무우밭으로 들어가, 무우 두 밑을 뽑아 왔다. 아직 밑이 덜 들어 있었다. \n",
      "\n",
      "잎을 비틀어 팽개친 후, 소녀에게 한 개 건넨다. 그리고는 이렇게 먹어야 한다는 듯이, 먼저 대강이를 한 입 베물어 낸 다음, 손톱으로 한 돌이 껍질을 벗겨 우쩍 깨문다.\n",
      "소녀도 따라 했다. 그러나, 세 입도 못 먹고, \"아, 맵고 지려.\" 하며 집어던지고 만다.\n",
      "\"참, 맛없어 못 먹겠다.\"\n",
      "소년이 더 멀리 팽개쳐 버렸다.\n",
      "산이 가까워졌다. 단풍이 눈에 따가웠다.\n",
      "\"야아!\"\n",
      "소녀가 산을 향해 달려갔다. 이번은 소년이 뒤따라 달리지 않았다. 그러고도 곧 소녀보다 더 많은 꽃을 꺾었다.\n",
      "\"이게 들국화, 이게 싸리꽃, 이게 도라지꽃,…….\"\n",
      "\"도라지꽃이 이렇게 예쁜 줄은 몰랐네. 난 보랏빛이 좋아! …… 그런데, 이 양산 같이 생긴 노란 꽃이 뭐지?\"\n",
      "\"마타리꽃.\"\n",
      "소녀는 마타리꽃을 양산 받듯이 해 보인다. 약간 상기된 얼굴에 살포시 보조개를 떠올리며.\n",
      "다시 소년은 꽃 한 옴큼을 꺾어 왔다. 싱싱한 꽃가지만 골라 소녀에게 건넨다.\n",
      "그러나 소녀는\n",
      "\"하나도 버리지 마라.\"\n",
      "\n",
      "\n",
      "산마루께로 올라갔다.\n",
      "맞은편 골짜기에 오순도순 초가집이 몇 모여 있었다.\n",
      "누가 말할 것도 아닌데, 바위에 나란히 걸터앉았다. 유달리 주위가 조용해진 것 같았다. 따가운 가을햇살만이 말라가는 풀 냄새를 퍼뜨리고 있었다.\n",
      "\"저건 또 무슨 꽃이지?\"\n",
      "적잖이 비탈진 곳에 칡덩굴이 엉키어 꽃을 달고 있었다.\n",
      "\"꼭 등꽃 같네. 서울 우리 학교에 큰 등나무가 있었단다. 저 꽃 을 보니까 등나무 밑에서 놀 던 동무들 생각이 난다.\"\n",
      "소녀가 조용히 일어나 비탈진 곳으로 간다. 꽃송이가 많이 달린 줄기를 잡고 끊기 시작한다. 좀처럼 끊어지지 않는다. 안간힘을 쓰다가 그만 미끄러지고 만다. 칡덩굴을 그러쥐었다.\n",
      "\n",
      "소년이 놀라 달려갔다. 소녀가 손을 내밀었다. 손을 잡아 이끌어 올리며, 소년은 제가 꺾어다 줄 것을 잘못했다고 뉘우친다. \n",
      "\n",
      "소녀의 오른쪽 무릎에 핏방울이 내맺혔다. 소년은 저도 모르게 생채기 에 입술을 가져다 대고 빨기 시작했다. 그러다가, 무슨 생각을 했는지 홱 일어나 저 쪽으로 달려간다.\n",
      "\n",
      "좀 만에 숨이 차 돌아온 소년은\n",
      "\"이걸 바르면 낫는다.\"\n",
      "송진을 생채기에다 문질러 바르고는 그 달음으로 칡덩굴 있는 데로 내려가, 꽃 많이 달린 몇 줄기를 이빨로 끊어 가지고 올라온다. 그리고는, \"저기 송아지가 있다. 그리 가 보자.\"\n",
      "누렁송아지였다. 아직 코뚜레도 꿰지 않았다.\n",
      "소년이 고삐를 바투 잡아 쥐고 등을 긁어 주는 체 훌쩍 올라탔다. 송아지가 껑충거리며 돌아간다.\n",
      "소녀의 흰 얼굴이, 분홍 스웨터가, 남색 스커트가, 안고 있는 꽃과 함께 범벅이 된다. 모두가 하나의 큰 꽃묶음 같다. 어지럽다. 그러나, 내리지 않으리라. 자랑스러웠다. \n",
      "\n",
      "이것만은 소녀가 흉내 내지 못할, 자기 혼자만이 할 수 있는 일인 것이다.\n",
      "\"너희, 예서 뭣들 하느냐?\"\n",
      "농부(農夫)하나가 억새풀 사이로 올라왔다.\n",
      "송아지 등에서 뛰어내렸다. 어린 송아지를 타서 허리가 상하면 어쩌느냐고 꾸지람을 들을 것만 같다. 그런데, 나룻이 긴 농부는 소녀 편을 한 번 훑어보고는 그저 송아지 고삐를 풀어 내면서, \n",
      "\n",
      "\"어서들 집으로 가거라. 소나기가 올라.\"\n",
      "참, 먹장구름 한 장이 머리 위에 와 있다. 갑자기 사면이 소란스러워진 것 같다. 바람이 우수수 소리를 내며 지나간다. 삽시간에 주위가 보랏빛으로 변했다.\n",
      "산을 내려오는데, 떡갈나무 잎에서 빗방울 듣는 소리가 난다. 굵은 빗방울이었다. 목덜미가 선뜻 선뜻 했다. 그러자, 대번에 눈앞을 가로막는 빗줄기.\n",
      "비안개 속에 원두막이 보였다. 그리로 가 비를 그을 수밖에.\n",
      "그러나, 원두막은 기둥이 기울고 지붕도 갈래갈래 찢어져 있었다. 그런 대로 비가 덜 새는 곳을 가려 소녀를 들어서게 했다.\n",
      "소녀의 입술이 파아랗게 질렸다. 어깨를 자꾸 떨었다.\n",
      "무명 겹저고리를 벗어 소녀의 어깨를 싸 주었다. 소녀는 비에 젖은 눈을 들어 한 번 쳐다보았을 뿐,\n",
      "\n",
      "소년이 하는 대로 잠자코 있었다. 그리고는, 안고 온 꽃묶음 속에서 가지가 꺾이고 꽃이 일그러진 송이를 골라 발 밑에 버린다. 소녀가 들어선 곳도 비가 새기 시작했다. 더 거기서 비를 그을 수 없었다.\n",
      "\n",
      "밖을 내다보던 소년이 무엇을 생각했는지 수수밭 쪽으로 달려간다. 세워 놓은 수숫단 속을 비집어 보더니, 옆의 수숫단을 날라다 덧세운다. 다시 속을 비집어 본다. 그리고는 이쪽을 향해 손짓을 한다.\n",
      "\n",
      "수숫단 속은 비는 안 새었다. 그저 어둡고 좁은 게 안 됐다. 앞에 나앉은 소년은 그냥 비를 맞아 야만 했다. 그런 소년의 어깨에서 김이 올랐다.\n",
      "\n",
      "소녀가 속삭이듯이, 이리 들어와 앉으라고 했다. 괜찮다고 했다. 소녀가 다시, 들어와 앉으라고 했다. \n",
      "\n",
      "할 수 없이 뒷걸음질을 쳤다. 그 바람에, 소녀가 안고 있는 꽃묶음이 망그러졌다. 그러나, 소녀는 상관없다고 생각했다. 비에 젖은 소년의 몸 내음새가 확 코에 끼얹혀졌다. 그러나, 고개를 돌리지 않았다. 도리어 소년의 몸기운으로 해서 떨리던 몸이 적이 누그러지는 느낌이었다. \n",
      "소란하던 수숫잎 소리가 뚝 그쳤다. 밖이 멀개졌다.\n",
      "수숫단 속을 벗어 나왔다. 멀지 않은 앞쪽에 햇빛이 눈부시게 내리붓고 있었다. 도랑 있는 곳까지 와보니, 엄청나게 물이 불어 있었다. 빛마저 제법 붉은 흙탕물이었다. 뛰어 건널 수가 없었다.\n",
      "소년이 등을 돌려 댔다. 소녀가 순순히 업히었다. 걷어올린 소년의 잠방이까지 물이 올라왔다. \n",
      "소녀는 '어머나'소리를 지르며 소년의 목을 끌어안았다. \n",
      "개울가에 다다르기 전에, 가을 하늘이 언제 그랬는가 싶게 구름 한 점 없이 쪽빛으로 개어 있었다.\n",
      "\n",
      "그 뒤로 소녀의 모습은 뵈지 않았다. 매일같이 개울가로 달려와 봐도 뵈지 않았다. \n",
      "학교에서 쉬는 시간에 운동장을 살피기도 했다. 남 몰래 5학년 여자 반을 엿보기도 했다. 그러나, 뵈지 않았다.\n",
      "그날도 소년은 주머니 속 흰 조약돌만 만지작거리며 개울가로 나왔다. 그랬더니, 이 쪽 개울둑에 소녀가 앉아 있는 게 아닌가.\n",
      "소년은 가슴부터 두근거렸다.\n",
      "\"그 동안 앓았다.\"\n",
      "어쩐지 소녀의 얼굴이 해쓱해져 있었다.\n",
      "\"그 날, 소나기 맞은 탓 아냐?\"\n",
      "소녀가 가만히 고개를 끄덕이었다.\n",
      "\"인제 다 났냐?\"\n",
      "\"아직도…….\"\n",
      "\"그럼, 누워 있어야지.\"\n",
      "\"하도 갑갑해서 나왔다. ……참, 그 날 재밌었어……. 그런데 그 날 어디서 이런 물이 들었는지 잘 지지 않는다.\"\n",
      "소녀가 분홍 스웨터 앞자락을 내려다본다. 거기에 검붉은 진흙물 같은 게 들어 있었다.\n",
      "소녀가 가만히 보조개를 떠올리며, \"그래 이게 무슨 물 같니?\"\n",
      "소년은 스웨터 앞자락만 바라보고 있었다.\n",
      "\"내, 생각해 냈다. 그 날, 도랑을 건너면서 내가 업힌 일이 있지? 그 때, 네 등에서 옮은 물이다.\"\n",
      "소년은 얼굴이 확 달아오름을 느꼈다.\n",
      "갈림길에서 소녀는\n",
      "\"저, 오늘 아침에 우리 집에서 대추를 땄다. 낼 제사 지내려고 …….\" 대추 한 줌을 내준다. 소년은 주춤한다.\n",
      "\"맛봐라. 우리 증조(曾祖)할아버지가 심었다는데, 아주 달다.\" 소년은 두 손을 오그려 내밀며, \n",
      "\n",
      "\"참, 알도 굵다!\"\n",
      "\"그리고 저, 우리 이번에 제사 지내고 나서 좀 있다. 집을 내주 게 됐다.\" 소년은 소녀네가 이사해 오기 전에 벌써 어른들의 이야기를 들어서, 윤 초시 손자(孫子)가 서울 서 사업에 실패해 가지고 고향에 돌아오지 않을 수 없게 되었다는 걸 알고 있었다. \n",
      "\n",
      "그것이 이번에 는 고향집마저 남의 손에 넘기게 된 모양 이었다.\n",
      "\"왜 그런지 난 이사 가는 게 싫어졌다. 어른들이 하는 일이니 어쩔 수 없지만…….\" 전에 없이, 소녀의 까만 눈에 쓸쓸한 빛이 떠돌았다.\n",
      "소녀와 헤어져 돌아오는 길에, 소년은 혼잣속으로, 소녀가 이사를 간다는 말을 수없이 되뇌어 보았다. 무어 그리 안타까울 것도 서러울 것도 없었다. 그렇건만, 소년은 지금 자기가 씹고 있는 대추알의 단맛을 모르고 있었다.\n",
      "\n",
      "\n",
      "이 날 밤, 소년은 몰래 덕쇠 할아버지네 호두밭으로 갔다.\n",
      "낯에 봐 두었던 나무로 올라갔다. 그리고, 봐 두었던 가지를 향해 작대기를 내리쳤다. 호두송이 떨어지는 소리가 별나게 크게 들렸다. 가슴이 선뜩했다. 그러나 다음 순간, 굵은 호두야 많이 떨어 져라,\n",
      "\n",
      "많이 떨어져라, 저도 모를 힘에 이끌려 마구 작대기를 내리 치는 것이었다.\n",
      "돌아오는 길에는 열 이틀 달이 지우는 그늘만 골라 디뎠다. 그늘의 고마움을 처음 느꼈다.\n",
      "불룩한 주머니를 어루만졌다. 호두송이를 맨손으로 깠다가는 옴이 오르기 쉽다는 말 같은 건 아무렇지도 않았다. 그저 근동에서 제일 가는 이 덕쇠 할아버지네 호두를 어서 소녀에게 맛보여야 한다는 생각만이 앞섰다.\n",
      "그러다, 아차 하는 생각이 들었다. 소녀더러 병이 좀 낫거들랑 이사 가기 전에 한 번 개울가로 나와 달라는 말을 못해 둔 것이었다. 바보 같은것, 바보 같은것.\n",
      "\n",
      " \n",
      "\n",
      "이튿날, 소년이 학교에서 돌아오니, 아버지가 나들이옷으로 갈아입고 닭 한 마리를 안고 있었다.\n",
      "어디 가시느냐고 물었다.\n",
      "그 말에도 대꾸도 없이, 아버지는 안고 있는 닭의 무게를 겨냥해 보면서,\n",
      "\n",
      "\"이만하면 될까?\"\n",
      "어머니가 망태기를 내주며, \"벌써 며칠째 '걀걀'하고 알 날 자리를 보던데요. 크진 않아도 살은 쪘을 거여요.\" 소년이 이번에는 어머니한테 아버지가 어디 가시느냐고 물어 보았다.\n",
      "\n",
      "\"저, 서당골 윤 초시 댁에 가신다. 제삿상에라도 놓으시라고… ….\" \"그럼, 큰 놈으로 하나 가져가지.\n",
      "\n",
      "저 얼룩수탉으로…….\" 이 말에, 아버지는 허허 웃고 나서, \n",
      "\n",
      "\"임마, 그래도 이게 실속이 있다.\"\n",
      "\n",
      "소년은 공연히 열적어, 책보를 집어던지고는 외양간으로가, 쇠잔등을 한 번 철썩 갈겼다. 쇠파리라도 잡는 체.\n",
      "\n",
      "개울물은 날로 여물어 갔다.\n",
      "소년은 갈림길에서 아래쪽으로 가 보았다. 갈밭머리에서 바라보는 서당골 마을은 쪽빛 하늘 아래 한결 가까워 보였다.\n",
      "어른들의 말이, 내일 소녀네가 양평읍으로 이사 간다는 것이었다. 거기 가서는 조그마한 가겟방을 보게 되리라는 것이었다.\n",
      "소년은 저도 모르게 주머니 속 호두알을 만지작거리며, 한 손으로는 수없이 갈꽃을 휘어 꺾고 있었다.\n",
      "\n",
      "\n",
      "그 날 밤, 소년은 자리에 누워서도 같은 생각뿐이었다. 내일 소녀네가 이사하는 걸 가보나 어쩌나.\n",
      "\n",
      "가면 소녀를 보게 될까 어떨까.\n",
      "\n",
      "\n",
      "그러다가 까무룩 잠이 들었는가 하는데, \n",
      "\n",
      "\"허, 참 세상일도…….\"\n",
      "마을 갔던 아버지가 언제 돌아왔는지, \"윤 초시 댁도 말이 아니야, 그 많던 전답을 다 팔아 버리고,\n",
      "\n",
      "대대로 살아오던 집마저 남의 손에 넘기더니, 또 악상까지 당하는 걸 보면…….\" \n",
      "\n",
      "남폿불 밑에서 바느질감을 안고 있던 어머니가, \n",
      "\n",
      "\"증손(曾孫)이라곤 계집애 그 애 하나뿐이었지요?\"\n",
      "\"그렇지, 사내 애 둘 있던 건 어려서 잃어버리고…….\" \"어쩌면 그렇게 자식복이 없을까.\"\n",
      "\"글쎄 말이지. 이번 앤 꽤 여러 날 앓는 걸 약도 변변히 못써 봤다더군. 지금 같아서 윤 초시네도 대가 끊긴 셈이지.……그런데 참, 이번 계집앤 어린 것이 여간 잔망스럽지가 않아. 글 쎄, \n",
      "\n",
      "죽기 전에 이런 말을 했다지 않아? \n",
      "\n",
      "자기가 죽거든 자기 입던 옷을 꼭 그대로 입혀서 묻어 달라고…….\"\n",
      "\n",
      "\n",
      "\n"
     ]
    }
   ],
   "source": [
    "print(data)"
   ]
  },
  {
   "cell_type": "code",
   "execution_count": 5,
   "metadata": {},
   "outputs": [],
   "source": [
    "kkma = Kkma()"
   ]
  },
  {
   "cell_type": "code",
   "execution_count": 6,
   "metadata": {},
   "outputs": [],
   "source": [
    "words = kkma.morphs(data)"
   ]
  },
  {
   "cell_type": "code",
   "execution_count": 7,
   "metadata": {},
   "outputs": [],
   "source": [
    "vocab = Counter(words)"
   ]
  },
  {
   "cell_type": "code",
   "execution_count": 8,
   "metadata": {},
   "outputs": [],
   "source": [
    "vocab_sorted = sorted(vocab.items(), key=lambda x:x[1], reverse=True)"
   ]
  },
  {
   "cell_type": "code",
   "execution_count": 9,
   "metadata": {},
   "outputs": [
    {
     "name": "stdout",
     "output_type": "stream",
     "text": [
      ". 311\n",
      "다 226\n",
      "었 168\n",
      "이 137\n",
      ", 119\n",
      "을 106\n",
      "\" 106\n",
      "가 96\n",
      "어 94\n",
      "는 86\n",
      "ㄴ 78\n",
      "하 77\n",
      "소녀 72\n",
      "은 71\n",
      "에 70\n",
      "를 54\n",
      "있 54\n",
      "고 54\n",
      "소년 49\n",
      "아 45\n",
      "ㄴ다 43\n",
      "았 41\n",
      "지 38\n",
      "것 35\n",
      "의 35\n",
      "도 32\n",
      "으로 27\n",
      "게 26\n",
      "보 25\n",
      "나 25\n",
      "그러 23\n",
      "한 22\n",
      "않 22\n",
      "에서 20\n",
      "ㄹ 20\n",
      "더 17\n",
      "로 16\n",
      "같 16\n",
      "? 16\n",
      "기 15\n",
      "속 15\n",
      "며 15\n",
      "날 14\n",
      "저 14\n",
      "그 14\n",
      "꽃 14\n",
      "서 13\n",
      "생각 13\n",
      "되 13\n",
      "…… 13\n",
      "물 12\n",
      "만 12\n",
      "말 12\n",
      "' 12\n",
      "오 12\n",
      "손 11\n",
      "네 10\n",
      "앉 10\n",
      "듣 10\n",
      "모르 9\n",
      "전 9\n",
      "어서 9\n",
      "니 9\n",
      "개울가 8\n",
      "알 8\n",
      "수 8\n",
      "길 8\n",
      "얼굴 8\n",
      "내 8\n",
      "하나 8\n",
      "고는 8\n",
      "달리 8\n",
      "안 8\n",
      "없 8\n",
      "이것 8\n",
      "참 8\n",
      "돌아오 7\n",
      "데 7\n",
      "이번 7\n",
      "그리 7\n",
      "바보 7\n",
      "갈꽃 7\n",
      "뵈 7\n",
      "집 7\n",
      "들 7\n",
      "비 7\n",
      "개울 6\n",
      "듯이 6\n",
      "까지 6\n",
      "더니 6\n",
      "징검다리 6\n",
      "나오 6\n",
      "는지 6\n",
      "다가 6\n",
      "머리 6\n",
      "일 6\n",
      "잡 6\n",
      "두 6\n",
      "소리 6\n",
      "못 6\n",
      "자기 6\n",
      "눈 6\n",
      "산 6\n",
      "허수아비 6\n",
      "곳 6\n",
      "밑 6\n",
      "송아지 6\n",
      "이사 6\n",
      "호두 6\n",
      "윤 5\n",
      "초시 5\n",
      "( 5\n",
      ") 5\n",
      "오늘 5\n",
      "버리 5\n",
      "주 5\n",
      "라도 5\n",
      "움키 5\n",
      "건너 5\n",
      "조약돌 5\n",
      "갈밭 5\n",
      "가을 5\n",
      "뿐 5\n",
      "다고 5\n",
      "쪽 5\n",
      "덜 5\n",
      "주머니 5\n",
      "ㅁ 5\n",
      "번 5\n",
      "느냐 5\n",
      "없이 5\n",
      "보이 5\n",
      "우리 5\n",
      "멀 5\n",
      "면 5\n",
      "대 5\n",
      "달려가 5\n",
      "ㄴ다는 5\n",
      "수숫단 5\n",
      "그렇 5\n",
      "크 5\n",
      "가지 5\n",
      "아버지 5\n"
     ]
    }
   ],
   "source": [
    "i=0\n",
    "for (word, frequency) in vocab_sorted:\n",
    "    if frequency >= 5:\n",
    "        print(word, frequency)"
   ]
  },
  {
   "cell_type": "code",
   "execution_count": 50,
   "metadata": {},
   "outputs": [],
   "source": [
    "infile = open(\"C:/Users/qzxy8/Downloads/메밀꽃.txt\", encoding='utf-8')"
   ]
  },
  {
   "cell_type": "code",
   "execution_count": 51,
   "metadata": {},
   "outputs": [],
   "source": [
    "data2 = infile.read()"
   ]
  },
  {
   "cell_type": "code",
   "execution_count": 52,
   "metadata": {},
   "outputs": [
    {
     "name": "stdout",
     "output_type": "stream",
     "text": [
      "﻿여름 장이란 애시당초에 글러서, 해는 아직 중천에 있건만 장판은 벌써 쓸쓸하고 더운 햇발이 벌여놓은 전 휘장 밑으로 등줄기를 훅훅 볶는다.마을 사람들은 거지반 돌아간 뒤요, 팔리지 못한 나뭇군패가 길거리에 궁싯거리고들 있으나 석윳병이나 받고 고깃마리나 사면 족할 이 축들을 바라고 언제까지든지 버티고 있을 법은 없다. 춥춥스럽게 날아드는 파리떼도 장난군 각다귀들도 귀치않다. 얽둑배기요 왼손잡이인 드팀전의 허생원은 기어코 동업의 조선달에게 낚아보았다.\n",
      " \n",
      "\"그만 거둘까?\"\n",
      " \n",
      "\"잘 생각했네.봉평장에서 한번이나 흐뭇하게 사본 일 있을까.내일 대화장에서나 한몫 벌어야겠네. \"\n",
      " \n",
      "\"오늘밤은 밤을 새서 걸어야 될걸?\"\n",
      " \n",
      "\"달이 뜨렷다?\"\n",
      " \n",
      "절렁절렁 소리를 내며 조선달이 그날 산 돈을 따지는 것을 보고 허생원은 말뚝에서 넓은 휘장을 걷고 벌여놓았던 물건을 거두기 시작하였다. 무명 필과 주단바리가 두 고리짝에 꼭 찼다. 멍석 위에는 천조각이 어수선하게 남았다.\n",
      " \n",
      "다른 축들도 벌써 거진 전들을 걷고 있었다. 약바르게 떠나는 패도 있었다. 어물장수도, 땜장이도, 엿장수도, 생강장수도 꼴들이 보이지 않았다. 내일은 진부와 대화에 장이 선다. 축들은 그 어느쪽으로든지 밤을 새며 육칠십리 밤길을 타박거리지 않으면 안된다. 장판은 잔치 뒷마당같이 어수선하게 벌어지고, 술집에는 싸움이 터져 있었다. 주정군 욕지거리에 섞여 계집의 앙칼진 목소리가 찢어졌다. 장날 저녁은 정해놓고 계집의 고함소리로 시작되는 것이다.\n",
      " \n",
      "\"생원, 시침을 떼두 다 아네…… 충줏집 말야.\"\n",
      " \n",
      "계집 목소리로 문득 생각난 듯이 조선달은 비죽이 웃는다.\n",
      " \n",
      "\"화중지병이지. 연소패들을 적수로 하구야 대거리가 돼야 말이지.\"\n",
      " \n",
      "\"그렇지두 않을걸. 축들이 사족을 못쓰는 것두 사실은 사실이나,아무리 그렇다군 해두 왜 그 동이 말일세, 감쪽같이 충줏집을 후린 눈치거든.\"\n",
      " \n",
      "\"무어, 그 애숭이가? 물건가지구 나꾸었나부지. 착실한 녀석인줄 알았더니.\"\n",
      " \n",
      "\"그길만은 알 수 있나……궁리 말구 가보세나그려. 내 한턱 씀세.\"\n",
      " \n",
      "그다지 마음이 당기지 않는 것을 쫓아갔다. 허생원은 계집과는 연분이 멀었다. 얽둑배기 상판을 쳐들고 대어 설 숫기도 없었으나 계집 편에서 정을 보낸 적도 없었고, 쓸쓸하고 뒤틀린 반생이었다. 충줏집을 생각만 하여도 철없이 얼굴이 붉어지고 발밑이 떨리고 그 자리에 소스라쳐버린다. 충줏집 문을 들어서서 술좌석에서 짜장 동이를 만났을 때에는 어찌 된 서슬엔지 발끈 화가 나버렸다. 상위에 붉은 얼굴을 쳐들고 제법 계집과 농탕치는 것을 보고서야 견딜 수 없었던 것이다. 녀석이 제법 난질군인데 꼴사납다. 머리에 피도 안 마른 녀석이 낮부터 술 처먹고 계집과 농탕이야. 장돌뱅이 망신만 시키고 돌아다니누나. 그 꼴에 우리들과 한몫 보자는 셈이지. 동이 앞에 막아서면서부터 책망이었다. 걱정두 팔자요 하는 듯이 빤히 쳐다보는 상기된 눈망울에 부딪칠 때, 얼결김에 따귀를 하나 갈겨주지 않고는 배길 수 없었다. 동이도 화를 쓰고 팩하고 일어서기는 하였으나, 허생원은 조금도 동색하는 법없이 마음먹은 대로는 다 지껄였다--어디서 주워먹은 선머슴인지는 모르겠으나, 네게도 아비 어미 있겠지. 그 사나운 꼴 보면 맘 좋겠다. 장사란 탐탁하게 해야 돼지, 계집이 다 무어야. 나가거라, 냉큼 꼴 치워.\n",
      " \n",
      "그러나 한마디도 대거리하지 않고 하염없이 나가는 꼴을 보려니, 도리어 측은히 여겨졌다. 아직두 서름서름한 사인데 너무 과하지 않았을까 하고 마음이 섬짓해졌다. 주제도 넘지, 같은 술손님이면서두 아무리 젊다구 자식 낳게 된 것을 붙들고 치고 닦아 셀 것은 무어야 원. 충줏집은 입술을 쭝긋하고 술 붓는 솜씨도 거칠었으나, 젊은 애들한테는 그것이 약이 된다나 하고 그 자리는 조선달이 얼버무려 넘겼다. 너 녀석한테 반했지? 애숭이를 빨면 죄된다. 한참 법석을 친 후이다. 담도 생긴데다가 웬일인지 흠뻑 취해보고 싶은 생각도 있어서 허생원은 주는 술잔이면 거의 다 들이켰다. 거나해짐을 따라 계집 생각보다도 동이의 뒷일이 한결같이 궁금해졌다. 내 꼴에 계집을 가로채서는 어떡헐 작정이었누 하고 어리석은 꼬락서니를 모질게 책망하는 마음도 한편에 있었다. 그렇기 때문에 얼마나 지난 뒤인지 동이가 헐레벌떡거리며 황급히 부르러 왔을 때에는, 마시던 잔을 그 자리에 던지고 정신없이 허덕이며 충줏집을 뛰어나간 것이다.\n",
      " \n",
      "\"생원 당나귀가 바를 끊구 야단이에요.\"\n",
      " \n",
      "\"각다귀들 장난이지 필연코.\"\n",
      " \n",
      "짐승도 짐승이려니와 동이의 마음씨가 가슴을 울렸다. 뒤를 따라 장판을 달음질하려니 거슴츠레한 눈이 뜨거워질 것같다.\n",
      " \n",
      "\"부락스런 녀석들이라 어쩌는 수 있어야죠..\"\n",
      " \n",
      "\"나귀를 몹시 구는 녀석들은 그냥 두지는 않을걸.\"\n",
      " \n",
      "반평생을 같이 지내온 짐승이었다. 같은 주막에서 잠자고,같은 달빛에 젖으면서 장에서 장으로 걸어다니는 동안에 이십 년의 세월이 사람과 짐승을 함께 늙게 하였다. 가스러진 목뒤 털은 주인의 머리털과도 같이 바스러지고, 개진개진 젖은 눈은 주인의 눈과 같이 눈곱을 흘렸다. 몽당비처럼 짧게 쓸리운 꼬리는, 파리를 쫓으려고 기껏 휘저어보아야 벌써 다리까지는 닿지 않았다. 닳아 없어진 굽을 몇 번이나 도려내고 새 철을 신겼는지 모른다. 굽은 벌써 더 자라나기는 틀렸고 닳아버린 철 사이로는 피가 빼짓이 흘렀다. 냄새만 맡고도 주인을 분간하였다.\n",
      " \n",
      "호소하는 목소리로 야단스럽게 울며 반겨한다.\n",
      " \n",
      "어린아이를 달래듯이 목덜미를 어루만져주니 나귀는 코를 벌름거리고 입을 투르르거렸다. 콧물이 튀었다. 허생원은 짐승 때문에 속도 무던히는 썩였다. 아이들의 장난이 심한 눈치여서 땀밴 몸뚱어리가 부들부들 떨리고 좀체 흥분이 식지 않는 모양이었다. 굴레가 벗어지고 안장도 떨어졌다. 요 몹쓸 자식들, 하고 허생원은 호령을 하였으나 패들은 벌써 줄행랑을 논 뒤요 몇 남지 않은 아이들이 호령에 놀래 비슬비슬 멀어졌다.\n",
      " \n",
      "\"우리들 장난이 아니우. 암놈을 보고 저 혼자 발광이지.\"\n",
      " \n",
      "코흘리개 한 녀석이 멀리서 소리를 쳤다.\n",
      " \n",
      "\"고녀석 말투가……\"\n",
      " \n",
      "\"김첨지 당나귀가 가버리니까 온통 흙을 차고 거품을 흘리면서 미친 소같이 날뛰는걸. 꼴이 우스워 우리는 보고만 있었다우. 배를 좀 보지.\"\n",
      " \n",
      "아이는 앙토라진 투로 소리를 치며 깔깔 웃었다. 허생원은 모르는 결에 낯이 뜨거워졌다. 뭇 시선을 막으려고 그는 짐승의 배 앞을 가리어 서지 않으면 안되었다.\n",
      " \n",
      "\"늙은 주제에 암샘을 내는 셈야. 저놈의 짐승이.\"\n",
      " \n",
      "아이의 웃음소리에 허생원은 주춤하면서 기어코 견딜 수 없어 채찍을 들더니 아이를 쫓았다.\n",
      " \n",
      "\"쫓으려거든 쫓아보지. 왼손잡이가 사람을 때려.\"\n",
      " \n",
      "줄달음에 달아나는 각다귀에는 당하는 재주가 없었다. 왼손잡이는 아이 하나도 후릴 수 없다. 그만 채찍을 던졌다. 술기도 돌아 몸이 유난스럽게 화끈거렸다.\n",
      " \n",
      "\"그만 떠나세. 녀석들과 어울리다가는 한이 없어.장판의 각다귀들이란 어른보다도 더 무서운 것들인걸.\"\n",
      " \n",
      "조선달과 동이는 각각 제 나귀에 안장을 얹고 짐을 싣기 시작하였다. 해가 꽤 많이 기울어진 모양이었다.\n",
      " \n",
      "드팀전 장돌림을 시작한 지 이십 년이나 되어도 허생원은 봉평장을 빼논 적은 드물었다. 충주 제천 등의 이웃 군에도 가고, 멀리 영남지방도 헤매기는 하였으나 강릉쯤에 물건 하러 가는 외에는 처음부터 끝까지 군내를 돌아다녔다. 닷새만큼씩의 장날에는 달보다도 확실하게 면에서 면으로 건너간다. 고향이 청주라고 자랑삼아 말하였으나 고향에 돌보러 간 일도 있는 것같지는 않았다.장에서 장으로 가는 길의 아름다운 강산이 그대로 그에게는 그리운 고향이었다.반날 동안이나 뚜벅뚜벅 걷고 장터 있는 마을에 거지반 가까왔을 때 거친 나귀가 한바탕 우렁차게 울면--더구나 그것이 저녁녘이어서 등불들이 어둠 속에 깜박거릴 무렵이면 늘 당하는 것이건만 허생원은 변치 않고 언제든지 가슴이 뛰놀았다.\n",
      " \n",
      "젊은 시절에는 알뜰하게 벌어 돈푼이나 모아본 적도 있기는 있었으나, 읍내에 백중이 열린 해 호탕스럽게 놀고 투전을 하고 하여 사흘 동안에 다 털어버렸다.\n",
      " \n",
      "나귀까지 팔게 된 판이었으나 애끓는 정분에 그것만은 이를 물고 단념하였다. 결국 도로아미타불로 장돌림을 다시 시작할 수밖에는 없었다. 짐승을 데리고 읍내를 도망해 나왔을 때에는 너를 팔지 않기 다행이었다고 길가에서 울면서 짐승의 등을 어루만졌던 것이었다. 빚을 지기 시작하니 재산을 모을 염은 당초에 틀리고 간신히 입에 풀칠을 하러 장에서 장으로 돌아다니게 되었다.\n",
      " \n",
      "호탕스럽게 놀았다고는 하여도 계집 하나 후려보지는 못하였다. 계집이란 쌀쌀하고 매정한 것이었다. 평생 인연이 없는 것이라고 신세가 서글퍼졌다. 일신에 가까운 것이라고는 언제나 변함없는 한 필의 당나귀였다.\n",
      " \n",
      "그렇다고는 하여도 꼭 한번의 첫일을 잊을 수는 없었다. 뒤에도 처음에도 없는 단 한번의 괴이한 인연! 봉평에 다니기 시작한 젊은 시절의 일이었으나 그것을 생각할 적만은 그도 산 보람을 느꼈다.\n",
      " \n",
      "\"달밤이었으나 어떻게 해서 그렇게 됐는지 지금 생각해도 도무지 알 수 없어.\"\n",
      " \n",
      "허생원은 오늘밤도 또 그 이야기를 끄집어내려는 것이다. 조선달은 친구가 된 이래 귀에 못이 박히도록 들어왔다. 그렇다고 싫증을 낼 수도 없었으나 허생원은 시치미를 떼고 되풀이할 대로는 되풀이하고야 말았다.\n",
      " \n",
      "\"달밤에는 그런 이야기가 격에 맞거든,\"\n",
      " \n",
      "조선달 편을 바라는 보았으나 물론 미안해서가 아니라 달빛에 감동하여서였다. 이지러는 졌으나 보름을 갓 지난달은 부드러운 빛을 흐뭇이 흘리고 있다. 대화까지는 팔십리의 밤길, 고개를 둘이나 넘고 개울을 하나 건너고 벌판과 산길을 걸어야 된다. 길은 지금 긴 산허리에 걸려 있다. 밤중을 지난 무렵인지 죽은 듯이 고요한 속에서 짐승같은 달의 숨소리가 손에 잡힐 듯이 들리며, 콩포기와 옥수수 잎새가 한층 달에 푸르게 젖었다. 산허리는 온통 메밀밭이어서 피기 시작한 꽃이 소금을 뿌린 듯이 흐뭇한 달빛에 숨이 막힐 지경이다. 붉은 대궁이 향기같이 애잔하고 나귀들의 걸음도 시원하다. 길이 좁은 까닭에 세 사람은 나귀를 타고 외줄로 늘어섰다. 방울소리가 시원스럽게 딸랑딸랑 메밀밭께로 흘러간다. 앞장선 허생원의 이야기소리는 꽁무니에 선 동이에게는 확적히는 안 들렸으나, 그는 그대로 개운한 제멋에 적적하지는 않았다.\n",
      " \n",
      "\"장 선 꼭 이런 날 밤이었네. 객줏집 토방이란 무더워서 잠이 들어야지. 밤중은 돼서 혼자 일어나 개울가에 목욕하러 나갔지. 봉평은 지금이나 그제나 마찬가지지. 보이는 곳마다 메밀밭이어서개울가가 어디 없이 하얀 꽃이야. 돌밭에 벗어도 좋을 것을, 달이 너무나 밝은 까닭에 옷을 벗으러 물방앗간으로 들어가지 않았나. 이상한 일도 많지. 거기서 난데없는 성서방네 처녀와 마주쳤단 말이네. 봉평서야 제일가는 일색이었지……\"\n",
      " \n",
      "\"팔자에 있었나부지.\"\n",
      " \n",
      "아무렴 하고 응답하면서 말머리를 아끼는 듯이 한참이나 담배를 빨 뿐이었다.구수한 자줏빛 연기가 밤기운 속에 흘러서는 녹았다.\n",
      " \n",
      "\"날 기다린 것은 아니었으나 그렇다고 달리 기다리는 놈팽이가있는 것두 아니었네. 처녀는 울고 있단 말야. 짐작은 대고 있으나 성서방네는 한창 어려워서 들고날 판인 때였지. 한집안 일이니 딸에겐들 걱정이 없을 리 있겠나? 좋은 데만 있으면 시집도 보내련만 시집은 죽어도 싫다지……그러나 처녀란 울 때같이 정을 끄는 때가 있을까. 처음에는 놀라기도 한 눈치였으나 걱정 있을 때는 누그러지기도 쉬운 듯해서 이럭저럭 이야기가 되었네……생각하면 무섭고도 기막힌 밤이었어.\"\n",
      " \n",
      "\"제천인지로 줄행랑을 놓은 건 그 다음날이렷다.\"\n",
      " \n",
      "\"다음 장도막에는 벌써 온 집안이 사라진 뒤였네. 장판은 소문에 발끈 뒤집혀 고작해야 술집에 팔려가기가 상수라고 처녀의 뒷공론이 자자들 하단 말이야. 제천 장판을 몇 번이나 뒤졌겠나. 허나 처녀의 꼴은 꿩궈먹은 자리야. 첫날밤이 마지막 밤이었지. 그때부터 봉평이 마음에 든 것이 반평생을 두고 다니게 되었네. 반평생인들 잊을 수 있겠나.\"\n",
      " \n",
      "\"수 좋았지. 그렇게 신통한 일이란 쉽지 않어. 항용 못난 것 얻어새끼 낳고, 걱정 늘고 생각만 해두 진저리가 나지……그러나 늙으막바지까지 장돌뱅이로 지내기도 힘드는 노릇 아닌가? 난 가을까지만 하구 이 생계와두 하직하려네. 대화쯤에 조그만 전방이나 하나 벌이구 식구들을 부르겠어. 사시장천 뚜벅뚜벅 걷기란 여간이래야지.\"\n",
      " \n",
      "\"옛 처녀나 만나면 같이나 살까……난 거꾸러질 때까지 이 길 걷고 저 달 볼 테야.\"\n",
      " \n",
      "산길을 벗어나니 큰길로 틔어졌다. 꽁무니의 동이도 앞으로 나서 나귀들은 가로 늘어섰다.\n",
      " \n",
      "\"총각두 젊겠다, 지금이 한창 시절이렷다. 충줏집에서는 그만 실수를 해서 그 꼴이 되었으나 설게 생각 말게.\"\n",
      " \n",
      "\"처 천만에요. 되려 부끄러워요. 계집이란 지금 웬 제격인가요.자나깨나 어머니 생각뿐인데요.\"\n",
      " \n",
      "허생원의 이야기로 실심해 한 끝이라 동이의 어조는 한풀 수그러진 것이었다.\n",
      " \n",
      "\"아비 어미란 말에 가슴이 터지는 것도 같았으나 제겐 아버지가없어요. 피붙이라고는 어머니 하나뿐인걸요.\"\n",
      " \n",
      "\"돌아가셨나?\"\n",
      " \n",
      "\"당초부터 없어요.\"\n",
      " \n",
      "\"그런 법이 세상에……\"\n",
      " \n",
      "생원과 선달이 야단스럽게 껄껄들 웃으니 동이는 정색하고 우길 수밖에는 없었다.\n",
      " \n",
      "\"부끄러워서 말하지 않으려 했으나 정말예요. 제천 촌에서 달도차지 않은 아이를 낳고 어머니는 집을 쫓겨났죠. 우스운 이야기나, 그러기 때문에 지금까지 아버지 얼굴도 본 적 없고 있는 고장도 모르고 지내와요.\"\n",
      " \n",
      "고개가 앞에 놓인 까닭에 세 사람은 나귀를 내렸다. 둔덕은 험하고 입을 벌리기도 대근하여 이야기는 한동안 끊겼다. 나귀는 건듯하면 미끄러졌다. 허생원은 숨이 차 몇 번이고 다리를 쉬지 않으면 안되었다. 고개를 넘을 때마다 나이가 알렸다. 동이같은 젊은 축이 그지없이 부러웠다. 땀이 등을 한바탕 쪽 씻어내렸다.\n",
      " \n",
      "고개 너머는 바로 개울이었다. 장마에 흘러버린 널다리가 아직도 걸리지 않은 채로 있는 까닭에 벗고 건너야 되었다. 고의를 벗어 띠로 등에 얽어매고 반 벌거숭이의 우스꽝스런 꼴로 물 속에 뛰어들었다. 금방 땀을 흘린 뒤였으나 밤 물은 뼈를 찔렀다.\n",
      " \n",
      "\"그래 대체 기르긴 누가 기르구?\"\n",
      " \n",
      "\"어머니는 하는 수 없이 의부를 얻어가서 술장사를 시작했죠. 술이 고주래서 의부라고 전 망나니예요. 철들어서부터 맞기 시작한 것이 하룬들 편한 날 있었을까. 어머니는 말리다가 채이고 맞고칼부림을 당하고 하니 집 꼴이 무어겠소. 열여덟살 때 집을 뛰쳐나서부터 이 짓이죠.\"\n",
      " \n",
      "\"총각 낫세론 동이 무던하다고 생각했더니 듣고 보니 딱한 신세로군.\"\n",
      " \n",
      "물은 깊어 허리까지 찼다. 속 물살도 어지간히 센데다가 발에 채이는 돌멩이도 미끄러워 금시에 훌칠 듯하였다. 나귀와 조선달은 재빨리 거의 건넜으나 동이는 허생원을 붙드느라고 두 사람은 훨씬 떨어졌다.\n",
      " \n",
      "\"모친의 친정은 원래부터 제천이었던가?\"\n",
      " \n",
      "\"웬걸요. 시원스리 말은 안 해주나 봉평이라는 것만은 들었죠.\"\n",
      " \n",
      "\"봉평, 그래 그 아비 성은 무엇이구?\"\n",
      " \n",
      "\"알 수 있나요. 도무지 듣지를 못했으니까.\"\n",
      " \n",
      "\"그 그렇겠지.\"\n",
      " \n",
      "하고 중얼거리며 흐려지는 눈을 까물까물하다가 허생원은 경망하게도 발을 빗디디었다. 앞으로 고꾸라지기가 바쁘게 몸째 풍덩 빠져버렸다. 허위적거릴수록 몸을 걷잡을 수 없어 동이가 소리를 치며 가까이 왔을 때에는 벌써 퍽으나 흘렀었다. 옷째 쫄딱 젖으니 물에 젖은 개보다도 참혹한 꼴이었다. 동이는 물 속에서 어른을 해깝게 업을 수 있었다. 젖었다고는 하여도 여윈 몸이라 장정 등에는 오히려 가벼웠다.\n",
      " \n",
      "\"이렇게까지 해서 안됐네. 내 오늘은 정신이 빠진 모양이야.\"\n",
      " \n",
      "\"염려하실 것 없어요.\"\n",
      " \n",
      "\"그래 모친은 아비를 찾지는 않는 눈치지?\"\n",
      " \n",
      "\"늘 한번 만나고 싶다고는 하는데요.\"\n",
      " \n",
      "\"지금 어디 계신가?\"\n",
      " \n",
      "\"의부와도 갈라져 제천에 있죠. 가을에는 봉평에 모셔오려고 생각 중인데요. 이를 물고 벌면 이럭저럭 살아갈 수 있겠죠.\"\n",
      " \n",
      "\"아무렴, 기특한 생각이야. 가을이랬다?\"\n",
      " \n",
      "동이의 탐탁한 등어리가 뼈에 사무쳐 따뜻하다. 물을 다 건넜을 때에는 도리어 서글픈 생각에 좀 더 업혔으면도 하였다.\n",
      " \n",
      "\"진종일 실수만 하니 웬일이요, 생원.\"\n",
      " \n",
      "조선달이 바라보며 기어코 웃음이 터졌다.\n",
      " \n",
      "\"나귀야, 나귀 생각하다 실족을 했어. 말 안했던가. 저 꼴에 제법 새끼를 얻었단 말이지. 읍내 강릉집 피마에게 말일세. 귀를쫑긋 세우고 달랑달랑 뛰는 것이 나귀새끼같이 귀여운 것이 있을까. 그것 보러 나는 일부러 읍내를 도는 때가 있다네.\"\n",
      " \n",
      "\"사람을 물에 빠뜨릴 젠 딴은 대단한 니귀새끼군.\"\n",
      " \n",
      "허생원은 젖은 옷을 웬만큼 짜서 입었다. 이가 덜덜 갈리고 가슴이 떨리며 몹시도 추웠으나 마음은 알 수 없이 둥실둥실 가벼웠다.\n",
      " \n",
      "\"주막까지 부지런히들 가세나. 뜰에 불을 피우고 훗훗이 쉬어.나귀에겐 더운 물울 끓여주고, 내일 대화장 보고는 제천이다.\"\n",
      " \n",
      "\"생원도 제천으로?……\"\n",
      " \n",
      "\"오래간만에 가보고 싶어. 동행하려나 동이?\"\n",
      " \n",
      "나귀가 걷기 시작하였을 때, 동이의 채찍은 왼손에 있었다. 오랫동안 아둑시니같이 눈이 어둡던 허생원도 요번만은 동이의 왼손잡이가 눈에 띄지 않을 수 없었다.\n",
      " \n",
      "걸음도 해깝고 방울소리가 밤 벌판에 한층 청청하게 울렸다.\n",
      " \n",
      "달이 어지간히 기울어졌다.\n"
     ]
    }
   ],
   "source": [
    "print(data2)"
   ]
  },
  {
   "cell_type": "code",
   "execution_count": 53,
   "metadata": {},
   "outputs": [],
   "source": [
    "kkma = Kkma()"
   ]
  },
  {
   "cell_type": "code",
   "execution_count": 54,
   "metadata": {},
   "outputs": [],
   "source": [
    "words = kkma.morphs(data)"
   ]
  },
  {
   "cell_type": "code",
   "execution_count": 55,
   "metadata": {},
   "outputs": [],
   "source": [
    "vocab = Counter(words)"
   ]
  },
  {
   "cell_type": "code",
   "execution_count": 56,
   "metadata": {},
   "outputs": [],
   "source": [
    "vocab_sorted = sorted(vocab.items(), key=lambda x:x[1], reverse=True)"
   ]
  },
  {
   "cell_type": "code",
   "execution_count": 57,
   "metadata": {},
   "outputs": [
    {
     "name": "stdout",
     "output_type": "stream",
     "text": [
      ". 233\n",
      "이 169\n",
      "었 140\n",
      "다 132\n",
      "는 128\n",
      "\" 112\n",
      "을 111\n",
      "하 110\n",
      "ㄴ 107\n",
      "에 102\n",
      "은 96\n",
      "고 89\n",
      "어 65\n",
      "지 60\n",
      "도 60\n",
      "가 50\n",
      "를 44\n",
      ", 40\n",
      "ㄹ 39\n",
      "있 38\n",
      "의 38\n",
      "들 34\n",
      "게 32\n",
      "것 31\n",
      "아 27\n",
      "나 27\n",
      "으나 25\n",
      "않 25\n",
      "생원 25\n",
      "없 23\n",
      "았 23\n",
      "허 20\n",
      "기 20\n",
      "수 20\n",
      "보 19\n",
      "되 19\n",
      "동이 19\n",
      "그 18\n",
      "어서 17\n",
      "? 16\n",
      "야 16\n",
      "때 16\n",
      "생각 15\n",
      "에서 15\n",
      "로 15\n",
      "나귀 15\n",
      "만 14\n",
      "장 13\n",
      "네 13\n",
      "두 13\n",
      "꼴 13\n",
      "물 13\n",
      "이나 12\n",
      "였 12\n",
      "과 12\n",
      "계집 12\n",
      "말 12\n",
      "면 12\n",
      "며 11\n",
      "겠 11\n",
      "으로 10\n",
      "달 10\n",
      "밤 10\n",
      "더 10\n",
      "시작 10\n",
      "같이 10\n",
      "…… 10\n",
      "니 10\n",
      "짐승 10\n",
      "까지 9\n",
      "조선 9\n",
      "봉 9\n",
      "소리 9\n",
      "서 9\n",
      "ㄴ다 9\n",
      "그렇 9\n",
      "녀석 9\n",
      "뒤 8\n",
      "스럽 8\n",
      "어야 8\n",
      "걷 8\n",
      "같 8\n",
      "벌써 7\n",
      "사람 7\n",
      "일 7\n",
      "집 7\n",
      "구 7\n",
      "세 7\n",
      "부터 7\n",
      "젖 7\n",
      "속 7\n",
      "아이 7\n",
      "제천 7\n",
      "지금 7\n",
      "이야기 7\n",
      "장판 6\n",
      "요 6\n",
      "ㄴ지 6\n",
      "내 6\n",
      "길 6\n",
      "버리 6\n",
      "치 6\n",
      "하나 6\n",
      "젊 6\n",
      "러 6\n",
      "눈 6\n",
      "울 6\n",
      "라고 6\n",
      "다고 6\n",
      "평 6\n",
      "처녀 6\n",
      "죠 6\n",
      "이란 5\n",
      "놓 5\n",
      "축 5\n",
      "군 5\n",
      "을까 5\n",
      "대화 5\n",
      "달이 5\n",
      "차 5\n",
      "으면 5\n",
      "듯이 5\n",
      "충줏집 5\n",
      "알 5\n",
      "마음 5\n",
      "앞 5\n",
      "란 5\n",
      "면서 5\n",
      "그것 5\n",
      "오 5\n",
      "까 5\n",
      "아니 5\n",
      "저 5\n",
      "어머니 5\n"
     ]
    }
   ],
   "source": [
    "i=0\n",
    "for (word, frequency) in vocab_sorted:\n",
    "    if frequency >= 5:\n",
    "        print(word, frequency)"
   ]
  },
  {
   "cell_type": "code",
   "execution_count": 10,
   "metadata": {},
   "outputs": [],
   "source": [
    "from nltk.corpus import stopwords\n",
    "from nltk.tokenize import word_tokenize\n",
    "import re"
   ]
  },
  {
   "cell_type": "code",
   "execution_count": 43,
   "metadata": {},
   "outputs": [],
   "source": [
    "#stop_words = \". , () 이 은 다 있 하 것 들 않 없 지 한 가 년 때 데 적 싶 좋 더 \"\n",
    "# 위의 불용어에는 직접 정의한 불용어가 있다.\n",
    "#stop_words=set(['은','는','이','가','하','아','것','들','의','있','되','수','보','주','등','한','.',','])\n",
    "stop_words= ['은','는','이','가','하','아','것','들','의','있','되','수','보','주','등','한','.',',','(',')',\"''\",\"``\"]\n",
    "\n",
    "#stop_words=stop_words.split(',')\n"
   ]
  },
  {
   "cell_type": "code",
   "execution_count": 44,
   "metadata": {},
   "outputs": [],
   "source": [
    "word_tokens = word_tokenize(data)"
   ]
  },
  {
   "cell_type": "code",
   "execution_count": 45,
   "metadata": {},
   "outputs": [],
   "source": [
    "result = []\n",
    "for w in word_tokens:\n",
    "    if w not in stop_words:\n",
    "        result.append(w)"
   ]
  },
  {
   "cell_type": "code",
   "execution_count": 46,
   "metadata": {},
   "outputs": [],
   "source": [
    "vocab = Counter(result)"
   ]
  },
  {
   "cell_type": "code",
   "execution_count": 47,
   "metadata": {},
   "outputs": [],
   "source": [
    "vocab_sorted = sorted(vocab.items(), key=lambda x:x[1], reverse=True)"
   ]
  },
  {
   "cell_type": "code",
   "execution_count": 48,
   "metadata": {},
   "outputs": [
    {
     "name": "stdout",
     "output_type": "stream",
     "text": [
      "[('소녀가', 29), ('소년은', 28), ('있었다', 24), ('?', 16), ('소녀의', 15), ('그', 14), ('소녀는', 12), ('소년이', 12), ('있는', 10), ('그러나', 10), ('했다', 10), ('날', 9), ('저', 8), ('않았다', 8), ('전에', 8), ('있다', 7), ('앉아', 7), ('안고', 7), ('소년의', 7), ('참', 7), ('걸', 6), ('뵈지', 6), ('하는', 6), ('더', 6), ('이게', 6), ('윤', 5), ('손을', 5), ('하고', 5), ('좀', 5), ('개울가로', 5), ('나왔다', 5), ('그리고는', 5), ('바보', 5), ('보았다', 5), ('것이었다', 5), (\"'\", 5), ('없이', 5), ('번', 5), ('우리', 5), ('게', 5), ('그런데', 4), ('다음', 4), ('그냥', 4), ('그대로', 4), ('그러다가', 4), ('물', 4), ('하나', 4), ('다', 4), ('저도', 4), ('모르게', 4), ('가을', 4), ('같았다', 4), ('서', 4), ('속을', 4), ('얼굴이', 4), ('몇', 4), ('시작했다', 4), ('소리가', 4), ('못', 4), ('무슨', 4), ('!', 4), ('같은', 4), ('많이', 4), ('소녀를', 3), ('물장난을', 3), ('것이다', 3), ('이런', 3), ('듯이', 3), ('벌써', 3), ('며칠째', 3), ('학교에서', 3), ('돌아오는', 3), ('오늘은', 3), ('징검다리', 3), ('개울둑에', 3), ('길을', 3), ('날은', 3), ('세수를', 3), ('분홍', 3), ('스웨터', 3), ('자꾸', 3), ('일어나', 3), ('징검다리를', 3), ('뛰어', 3), ('생각됐다', 3), ('않는다', 3), ('쪽', 3), ('갈꽃이', 3), ('그리고', 3), ('소녀', 3), ('조약돌을', 3), ('주머니', 3), ('속', 3), ('두', 3), ('달렸다', 3), ('체', 3), ('왔다', 3), ('서울', 3), ('할', 3), ('허수아비가', 3), ('집으로', 3), ('생각이', 3), ('또', 3), ('달려간다', 3), ('한다는', 3), ('저놈의', 3), ('지금', 3), ('자기가', 3), ('참외', 3), ('그럼', 3), ('들어', 3), ('소녀에게', 3), ('향해', 3), ('……', 3), ('다시', 3), ('꽃', 3), ('골라', 3), ('것도', 3), ('큰', 3), ('같다', 3), ('그저', 3), ('비를', 3), ('없었다', 3), ('수숫단', 3), ('물이', 3), ('소녀네가', 3), ('초시', 3), ('이사', 3), ('말을', 3), ('아버지가', 3), ('보자', 2), ('곧', 2), ('알', 2), ('길에', 2), ('한가운데', 2), ('버렸다', 2), ('지나가는', 2), ('사람이', 2), ('있어', 2), ('주었다', 2), ('늦게', 2), ('걷어올린', 2), ('목덜미가', 2), ('이번에는', 2), ('갑자기', 2), ('움켜', 2), ('낸다', 2), ('물만', 2), ('속에서', 2), ('무엇을', 2), ('벌떡', 2), ('홱', 2), ('이리로', 2), ('달린다', 2), ('사잇길로', 2), ('들어섰다', 2), ('아래', 2), ('꽤', 2), ('시간이', 2), ('지났다고', 2), ('그러고도', 2), ('갈꽃을', 2), ('것만', 2), ('아주', 2), ('그림자가', 2), ('잡는', 2), ('물속에', 2), ('손으로', 2), ('움키었다', 2), ('놀라', 2), ('있지', 2), ('내가', 2), ('길에는', 2), ('없다', 2), (\"'바보\", 2), ('뒤따라', 2), ('개울가에', 2), ('뿐', 2), ('얘', 2), ('눈을', 2), ('산', 2), ('곁을', 2), ('지났다', 2), ('일찍', 2), ('돌아가', 2), ('살포시', 2), ('그리로', 2), ('오늘', 2), ('생각을', 2), ('얼굴에', 2), ('와', 2), ('쪽빛으로', 2), ('하늘이', 2), ('맴을', 2), ('어지럽다', 2), ('독수리', 2), ('온', 2), ('곳에', 2), ('먼저', 2), ('수숫단을', 2), ('세워', 2), ('놓은', 2), ('아직', 2), ('덜', 2), ('건넨다', 2), ('이렇게', 2), ('만다', 2), ('눈에', 2), ('산을', 2), ('달려갔다', 2), ('꽃을', 2), ('난', 2), ('양산', 2), ('꽃이', 2), ('보조개를', 2), ('떠올리며', 2), ('올라갔다', 2), ('주위가', 2), ('비탈진', 2), ('꼭', 2), ('밑에서', 2), ('난다', 2), ('달린', 2), ('줄기를', 2), ('잡아', 2), ('쪽으로', 2), ('가지고', 2), ('송아지가', 2), ('그리', 2), ('고삐를', 2), ('등을', 2), ('흰', 2), ('꽃묶음', 2), ('자기', 2), ('올라왔다', 2), ('송아지', 2), ('등에서', 2), ('어린', 2), ('굵은', 2), ('선뜻', 2), ('보였다', 2), ('그을', 2), ('그런', 2), ('대로', 2), ('비가', 2), ('어깨를', 2), ('벗어', 2), ('비에', 2), ('젖은', 2), ('비집어', 2), ('안', 2), ('됐다', 2), ('들어와', 2), ('앉으라고', 2), ('확', 2), ('고개를', 2), ('언제', 2), ('몰래', 2), ('만지작거리며', 2), ('가만히', 2), ('느꼈다', 2), ('갈림길에서', 2), ('제사', 2), ('이번에', 2), ('나서', 2), ('어른들의', 2), ('남의', 2), ('손에', 2), ('가는', 2), ('간다는', 2), ('수없이', 2), ('밤', 2), ('덕쇠', 2), ('할아버지네', 2), ('갔다', 2), ('봐', 2), ('두었던', 2), ('작대기를', 2), ('건', 2), ('같은것', 2), ('어디', 2), ('가시느냐고', 2), ('아버지는', 2), ('될까', 2), ('어머니가', 2), ('서당골', 2), ('말이', 2), ('내일', 2), ('보게', 2), ('있던', 2), ('애', 2), ('이번', 2), ('않아', 2), ('\\ufeff소년은', 1), ('개울가에서', 1), ('초시네', 1), ('증손녀', 1), ('曾孫女', 1), ('딸이라는', 1), ('개울에다', 1), ('잠그고', 1), ('서울서는', 1), ('개울물을', 1), ('보지', 1), ('못하기나', 1), ('물장난이었다', 1), ('어제까지', 1), ('개울', 1), ('기슭에서', 1), ('하더니', 1), ('앉아서', 1), ('비키기를', 1), ('기다리자는', 1), ('요행', 1), ('비켜', 1), ('소매를', 1), ('마냥', 1), ('희었다', 1), ('한참', 1), ('나더니', 1), ('물속을', 1), ('빤히', 1), ('들여다본다', 1), ('얼굴이라도', 1), ('비추어', 1), ('보는', 1), ('것이리라', 1), ('물을', 1), ('고기', 1), ('새끼라도', 1), ('듯', 1), ('아는지', 1), ('모르는지', 1), ('날쌔게', 1), ('번번이', 1), ('허탕이다', 1), ('재미있는', 1), ('양', 1), ('움킨다', 1), ('어제처럼', 1), ('개울을', 1), ('건너는', 1), ('있어야', 1), ('비킬', 1), ('모양이다', 1), ('집어낸다', 1), ('하얀', 1), ('조약돌이었다', 1), ('팔짝팔짝', 1), ('건너간다', 1), ('건너가더니만', 1), ('돌아서며', 1), ('조약돌이', 1), ('날아왔다', 1), ('일어섰다', 1), ('단발', 1), ('머리를', 1), ('나풀거리며', 1), ('막', 1), ('갈밭', 1), ('뒤에는', 1), ('청량한', 1), ('햇살', 1), ('빛나는', 1), ('갈꽃뿐', 1), ('이제', 1), ('저쯤', 1), ('갈밭머리로', 1), ('나타나리라', 1), ('오랜', 1), ('그런데도', 1), ('나타나지', 1), ('발돋움을', 1), ('상당한', 1), ('갈밭머리에', 1), ('옴큼', 1), ('움직였다', 1), ('이제는', 1), ('천천한', 1), ('걸음이었다', 1), ('유난히', 1), ('맑은', 1), ('햇살이', 1), ('갈꽃머리에서', 1), ('반짝거렸다', 1), ('아닌', 1), ('들길을', 1), ('걸어가는', 1), ('않게', 1), ('되기까지', 1), ('문득', 1), ('던지', 1), ('내려', 1), ('물기가', 1), ('걷혀', 1), ('집어', 1), ('주머니에', 1), ('넣었다', 1), ('날부터', 1), ('좀더', 1), ('다행이었다', 1), ('이상한', 1), ('일이었다', 1), ('않는', 1), ('날이', 1), ('계속될수록', 1), ('가슴', 1), ('구석에는', 1), ('어딘가', 1), ('허전함이', 1), ('자리', 1), ('주무르는', 1), ('버릇이', 1), ('생겼다', 1), ('그러한', 1), ('어떤', 1), ('하던', 1), ('한가운데에', 1), ('잠갔다', 1), ('하였다', 1), ('들여다보았다', 1), ('검게', 1), ('탄', 1), ('비치었다', 1), ('싫었다', 1), ('속의', 1), ('얼굴을', 1), ('번이고', 1), ('깜짝', 1), ('일어나고', 1), ('말았다', 1), ('건너오고', 1), ('않느냐', 1), (\"'숨어서\", 1), ('일을', 1), ('엿보고', 1), ('있었구나', 1), ('달리기를', 1), ('디딤돌을', 1), ('헛디뎠다', 1), ('발이', 1), ('빠졌다', 1), ('몸을', 1), ('가릴', 1), ('데가', 1), ('줬으면', 1), ('좋겠다', 1), ('갈밭도', 1), ('메밀밭이다', 1), ('메밀꽃', 1), ('냄새가', 1), ('짜릿하게', 1), ('코를', 1), ('찌른다고', 1), ('미간이', 1), ('아찔했다', 1), ('찝찔한', 1), ('액체가', 1), ('입술에', 1), ('흘러들었다', 1), ('코피였다', 1), ('코피를', 1), ('훔쳐내면서', 1), ('어디선가', 1), ('자꾸만', 1), ('오는', 1), ('토요일이었다', 1), ('이르니', 1), ('보이지', 1), ('않던', 1), ('건너편', 1), ('가에', 1), ('모르는', 1), ('건너기', 1), ('얼마', 1), ('앞에서', 1), ('실수를', 1), ('했을', 1), ('여태', 1), ('큰길', 1), ('가듯이', 1), ('건너던', 1), ('조심스럽게', 1), ('건넌다', 1), ('들은', 1), ('체했다', 1), ('둑', 1), ('위로', 1), ('올라섰다', 1), ('조개지', 1), ('자기도', 1), ('돌아섰다', 1), ('맑고', 1), ('검은', 1), ('눈과', 1), ('마주쳤다', 1), ('얼른', 1), ('손바닥으로', 1), ('떨구었다', 1), ('비단조개', 1), ('이름도', 1), ('곱다', 1), ('갈림길에', 1), ('여기서', 1), ('아래편으로', 1), ('삼', 1), ('마장쯤', 1), ('우대로', 1), ('십', 1), ('리', 1), ('가까운', 1), ('가야한다', 1), ('걸음을', 1), ('멈추며', 1), ('너', 1), ('너머에', 1), ('본', 1), ('일', 1), ('있니', 1), ('벌', 1), ('끝을', 1), ('가리켰다', 1), ('가보지', 1), ('않으련', 1), ('시골', 1), ('오니까', 1), ('혼자서', 1), ('심심해', 1), ('견디겠다', 1), ('저래', 1), ('봬도', 1), ('멀다', 1), ('멀면', 1), ('얼마나', 1), ('멀기에', 1), ('있을', 1), ('땐', 1), ('사뭇', 1), ('먼', 1), ('데까지', 1), ('소풍', 1), ('갔었다', 1), ('눈이', 1), ('금새', 1), ('만', 1), ('논', 1), ('벼', 1), ('가을걷이하는', 1), ('새끼줄을', 1), ('흔들었다', 1), ('참새가', 1), ('마리', 1), ('날아간다', 1), ('텃논의', 1), ('참새를', 1), ('봐야', 1), ('할걸', 1), ('든다', 1), ('야', 1), ('재밌다', 1), ('허수아비', 1), ('줄을', 1), ('잡더니', 1), ('흔들어', 1), ('댄다', 1), ('우쭐거리며', 1), ('춤을', 1), ('춘다', 1), ('왼쪽', 1), ('볼에', 1), ('보조개가', 1), ('패었다', 1), ('저만큼', 1), ('뒤를', 1), ('소년도', 1), ('집안일을', 1), ('도와야', 1), ('잊어버리기라도', 1), ('하려는', 1), ('스쳐', 1), ('메뚜기가', 1), ('따끔따끔', 1), ('부딪친다', 1), ('한껏', 1), ('갠', 1), ('눈앞에서', 1), ('돈다', 1), ('독수리가', 1), ('돌고', 1), ('있기', 1), ('때문이다', 1), ('돌아다보니', 1), ('지나쳐', 1), ('허수아비를', 1), ('흔들고', 1), ('전', 1), ('허수아비보다', 1), ('우쭐거린다', 1), ('논이', 1), ('끝난', 1), ('도랑이', 1), ('건넜다', 1), ('거기서부터', 1), ('밑까지는', 1), ('밭이었다', 1), ('밭머리를', 1), ('저게', 1), ('뭐니', 1), ('원두막', 1), ('여기', 1), ('맛있니', 1), ('맛도', 1), ('좋지만', 1), ('수박', 1), ('맛은', 1), ('좋다', 1), ('먹어', 1), ('봤으면', 1), ('그루에', 1), ('심은', 1), ('무우밭으로', 1), ('들어가', 1), ('무우', 1), ('밑을', 1), ('뽑아', 1), ('밑이', 1), ('잎을', 1), ('비틀어', 1), ('팽개친', 1), ('후', 1), ('개', 1), ('먹어야', 1), ('대강이를', 1), ('입', 1), ('베물어', 1), ('낸', 1), ('손톱으로', 1), ('돌이', 1), ('껍질을', 1), ('벗겨', 1), ('우쩍', 1), ('깨문다', 1), ('소녀도', 1), ('따라', 1), ('세', 1), ('입도', 1), ('먹고', 1), ('맵고', 1), ('지려', 1), ('하며', 1), ('집어던지고', 1), ('맛없어', 1), ('먹겠다', 1), ('멀리', 1), ('팽개쳐', 1), ('산이', 1), ('가까워졌다', 1), ('단풍이', 1), ('따가웠다', 1), ('야아', 1), ('이번은', 1), ('달리지', 1), ('소녀보다', 1), ('많은', 1), ('꺾었다', 1), ('들국화', 1), ('싸리꽃', 1), ('도라지꽃', 1), ('도라지꽃이', 1), ('예쁜', 1), ('줄은', 1), ('몰랐네', 1), ('보랏빛이', 1), ('좋아', 1), ('같이', 1), ('생긴', 1), ('노란', 1), ('뭐지', 1), ('마타리꽃', 1), ('마타리꽃을', 1), ('받듯이', 1), ('해', 1), ('보인다', 1), ('약간', 1), ('상기된', 1), ('옴큼을', 1), ('꺾어', 1), ('싱싱한', 1), ('꽃가지만', 1), ('하나도', 1), ('버리지', 1), ('마라', 1), ('산마루께로', 1), ('맞은편', 1), ('골짜기에', 1), ('오순도순', 1), ('초가집이', 1), ('모여', 1), ('누가', 1), ('말할', 1), ('아닌데', 1), ('바위에', 1), ('나란히', 1), ('걸터앉았다', 1), ('유달리', 1), ('조용해진', 1), ('따가운', 1), ('가을햇살만이', 1), ('말라가는', 1), ('풀', 1), ('냄새를', 1), ('퍼뜨리고', 1), ('저건', 1), ('꽃이지', 1), ('적잖이', 1), ('칡덩굴이', 1), ('엉키어', 1), ('달고', 1), ('등꽃', 1), ('같네', 1), ('학교에', 1), ('등나무가', 1), ('있었단다', 1), ('을', 1), ('보니까', 1), ('등나무', 1), ('놀', 1), ('던', 1), ('동무들', 1), ('조용히', 1), ('곳으로', 1), ('간다', 1), ('꽃송이가', 1), ('잡고', 1), ('끊기', 1), ('시작한다', 1), ('좀처럼', 1), ('끊어지지', 1), ('안간힘을', 1), ('쓰다가', 1), ('그만', 1), ('미끄러지고', 1), ('칡덩굴을', 1), ('그러쥐었다', 1), ('내밀었다', 1), ('이끌어', 1), ('올리며', 1), ('제가', 1), ('꺾어다', 1), ('줄', 1), ('것을', 1), ('잘못했다고', 1), ('뉘우친다', 1), ('오른쪽', 1), ('무릎에', 1), ('핏방울이', 1), ('내맺혔다', 1), ('생채기', 1), ('에', 1), ('입술을', 1), ('가져다', 1), ('대고', 1), ('빨기', 1), ('했는지', 1), ('만에', 1), ('숨이', 1), ('차', 1), ('돌아온', 1), ('이걸', 1), ('바르면', 1), ('낫는다', 1), ('송진을', 1), ('생채기에다', 1), ('문질러', 1), ('바르고는', 1), ('달음으로', 1), ('칡덩굴', 1), ('데로', 1), ('내려가', 1), ('이빨로', 1), ('끊어', 1), ('올라온다', 1), ('저기', 1), ('누렁송아지였다', 1), ('코뚜레도', 1), ('꿰지', 1), ('바투', 1), ('쥐고', 1), ('긁어', 1), ('주는', 1), ('훌쩍', 1), ('올라탔다', 1), ('껑충거리며', 1), ('돌아간다', 1), ('스웨터가', 1), ('남색', 1), ('스커트가', 1), ('꽃과', 1), ('함께', 1), ('범벅이', 1), ('된다', 1), ('모두가', 1), ('하나의', 1), ('내리지', 1), ('않으리라', 1), ('자랑스러웠다', 1), ('이것만은', 1), ('흉내', 1), ('내지', 1), ('못할', 1), ('혼자만이', 1), ('일인', 1), ('너희', 1), ('예서', 1), ('뭣들', 1), ('하느냐', 1), ('농부', 1), ('農夫', 1), ('하나가', 1), ('억새풀', 1), ('사이로', 1), ('뛰어내렸다', 1), ('송아지를', 1), ('타서', 1), ('허리가', 1), ('상하면', 1), ('어쩌느냐고', 1), ('꾸지람을', 1), ('들을', 1), ('나룻이', 1), ('긴', 1), ('농부는', 1), ('편을', 1), ('훑어보고는', 1), ('풀어', 1), ('내면서', 1), ('어서들', 1), ('가거라', 1), ('소나기가', 1), ('올라', 1), ('먹장구름', 1), ('장이', 1), ('머리', 1), ('위에', 1), ('사면이', 1), ('소란스러워진', 1), ('바람이', 1), ('우수수', 1), ('소리를', 1), ('내며', 1), ('지나간다', 1), ('삽시간에', 1), ('보랏빛으로', 1), ('변했다', 1), ('내려오는데', 1), ('떡갈나무', 1), ('잎에서', 1), ('빗방울', 1), ('듣는', 1), ('빗방울이었다', 1), ('그러자', 1), ('대번에', 1), ('눈앞을', 1), ('가로막는', 1), ('빗줄기', 1), ('비안개', 1), ('속에', 1), ('원두막이', 1), ('수밖에', 1), ('원두막은', 1), ('기둥이', 1), ('기울고', 1), ('지붕도', 1), ('갈래갈래', 1), ('찢어져', 1), ('새는', 1), ('곳을', 1), ('가려', 1), ('들어서게', 1), ('입술이', 1), ('파아랗게', 1), ('질렸다', 1), ('떨었다', 1), ('무명', 1), ('겹저고리를', 1), ('싸', 1), ('쳐다보았을', 1), ('잠자코', 1), ('가지가', 1), ('꺾이고', 1), ('일그러진', 1), ('송이를', 1), ('발', 1), ('밑에', 1), ('버린다', 1), ('들어선', 1), ('곳도', 1), ('새기', 1), ('거기서', 1), ('밖을', 1), ('내다보던', 1), ('생각했는지', 1), ('수수밭', 1), ('보더니', 1), ('옆의', 1), ('날라다', 1), ('덧세운다', 1), ('본다', 1), ('이쪽을', 1), ('손짓을', 1), ('한다', 1), ('속은', 1), ('비는', 1), ('새었다', 1), ('어둡고', 1), ('좁은', 1), ('앞에', 1), ('나앉은', 1), ('맞아', 1), ('야만', 1), ('어깨에서', 1), ('김이', 1), ('올랐다', 1), ('속삭이듯이', 1), ('이리', 1), ('괜찮다고', 1), ('뒷걸음질을', 1), ('쳤다', 1), ('바람에', 1), ('꽃묶음이', 1), ('망그러졌다', 1), ('상관없다고', 1), ('생각했다', 1), ('몸', 1), ('내음새가', 1), ('코에', 1), ('끼얹혀졌다', 1), ('돌리지', 1), ('도리어', 1), ('몸기운으로', 1), ('해서', 1), ('떨리던', 1), ('몸이', 1), ('적이', 1), ('누그러지는', 1), ('느낌이었다', 1), ('소란하던', 1), ('수숫잎', 1), ('뚝', 1), ('그쳤다', 1), ('밖이', 1), ('멀개졌다', 1), ('멀지', 1), ('않은', 1), ('앞쪽에', 1), ('햇빛이', 1), ('눈부시게', 1), ('내리붓고', 1), ('도랑', 1), ('곳까지', 1), ('와보니', 1), ('엄청나게', 1), ('불어', 1), ('빛마저', 1), ('제법', 1), ('붉은', 1), ('흙탕물이었다', 1), ('건널', 1), ('수가', 1), ('돌려', 1), ('댔다', 1), ('순순히', 1), ('업히었다', 1), ('잠방이까지', 1), (\"'어머나'소리를\", 1), ('지르며', 1), ('목을', 1), ('끌어안았다', 1), ('다다르기', 1), ('그랬는가', 1), ('싶게', 1), ('구름', 1), ('점', 1), ('개어', 1), ('뒤로', 1), ('모습은', 1), ('매일같이', 1), ('달려와', 1), ('봐도', 1), ('쉬는', 1), ('시간에', 1), ('운동장을', 1), ('살피기도', 1), ('남', 1), ('5학년', 1), ('여자', 1), ('반을', 1), ('엿보기도', 1), ('그날도', 1), ('조약돌만', 1), ('그랬더니', 1), ('아닌가', 1), ('가슴부터', 1), ('두근거렸다', 1), ('동안', 1), ('앓았다', 1), ('어쩐지', 1), ('해쓱해져', 1), ('소나기', 1), ('맞은', 1), ('탓', 1), ('아냐', 1), ('끄덕이었다', 1), ('인제', 1), ('났냐', 1), ('아직도……', 1), ('누워', 1), ('있어야지', 1), ('하도', 1), ('갑갑해서', 1), ('……참', 1), ('재밌었어……', 1), ('어디서', 1), ('들었는지', 1), ('잘', 1), ('지지', 1), ('앞자락을', 1), ('내려다본다', 1), ('거기에', 1), ('검붉은', 1), ('진흙물', 1), ('그래', 1), ('같니', 1), ('앞자락만', 1), ('바라보고', 1), ('내', 1), ('생각해', 1), ('냈다', 1), ('도랑을', 1), ('건너면서', 1), ('업힌', 1), ('일이', 1), ('때', 1), ('네', 1), ('옮은', 1), ('물이다', 1), ('달아오름을', 1), ('아침에', 1), ('집에서', 1), ('대추를', 1), ('땄다', 1), ('낼', 1), ('지내려고', 1), ('대추', 1), ('줌을', 1), ('내준다', 1), ('주춤한다', 1), ('맛봐라', 1), ('증조', 1), ('曾祖', 1), ('할아버지가', 1), ('심었다는데', 1), ('달다', 1), ('오그려', 1), ('내밀며', 1), ('알도', 1), ('굵다', 1), ('지내고', 1), ('집을', 1), ('내주', 1), ('이사해', 1), ('오기', 1), ('이야기를', 1), ('들어서', 1), ('손자', 1), ('孫子', 1), ('사업에', 1), ('실패해', 1), ('고향에', 1), ('돌아오지', 1), ('않을', 1), ('없게', 1), ('되었다는', 1), ('알고', 1), ('그것이', 1), ('고향집마저', 1), ('넘기게', 1), ('된', 1), ('모양', 1), ('이었다', 1), ('왜', 1), ('그런지', 1), ('싫어졌다', 1), ('어른들이', 1), ('일이니', 1), ('어쩔', 1), ('없지만……', 1), ('까만', 1), ('쓸쓸한', 1), ('빛이', 1), ('떠돌았다', 1), ('소녀와', 1), ('헤어져', 1), ('혼잣속으로', 1), ('이사를', 1), ('되뇌어', 1), ('무어', 1), ('안타까울', 1), ('서러울', 1), ('그렇건만', 1), ('씹고', 1), ('대추알의', 1), ('단맛을', 1), ('모르고', 1), ('호두밭으로', 1), ('낯에', 1), ('나무로', 1), ('가지를', 1), ('내리쳤다', 1), ('호두송이', 1), ('떨어지는', 1), ('별나게', 1), ('크게', 1), ('들렸다', 1), ('가슴이', 1), ('선뜩했다', 1), ('순간', 1), ('호두야', 1), ('떨어', 1), ('져라', 1), ('떨어져라', 1), ('모를', 1), ('힘에', 1), ('이끌려', 1), ('마구', 1), ('내리', 1), ('치는', 1), ('열', 1), ('이틀', 1), ('달이', 1), ('지우는', 1), ('그늘만', 1), ('디뎠다', 1), ('그늘의', 1), ('고마움을', 1), ('처음', 1), ('불룩한', 1), ('주머니를', 1), ('어루만졌다', 1), ('호두송이를', 1), ('맨손으로', 1), ('깠다가는', 1), ('옴이', 1), ('오르기', 1), ('쉽다는', 1), ('말', 1), ('아무렇지도', 1), ('근동에서', 1), ('제일', 1), ('호두를', 1), ('어서', 1), ('맛보여야', 1), ('생각만이', 1), ('앞섰다', 1), ('그러다', 1), ('아차', 1), ('들었다', 1), ('소녀더러', 1), ('병이', 1), ('낫거들랑', 1), ('가기', 1), ('나와', 1), ('달라는', 1), ('못해', 1), ('둔', 1), ('이튿날', 1), ('돌아오니', 1), ('나들이옷으로', 1), ('갈아입고', 1), ('닭', 1), ('마리를', 1), ('물었다', 1), ('말에도', 1), ('대꾸도', 1), ('닭의', 1), ('무게를', 1), ('겨냥해', 1), ('보면서', 1), ('이만하면', 1), ('망태기를', 1), ('내주며', 1), (\"'걀걀'하고\", 1), ('자리를', 1), ('보던데요', 1), ('크진', 1), ('않아도', 1), ('살은', 1), ('쪘을', 1), ('거여요', 1), ('어머니한테', 1), ('물어', 1), ('댁에', 1), ('가신다', 1), ('제삿상에라도', 1), ('놓으시라고…', 1), ('…', 1), ('놈으로', 1), ('가져가지', 1), ('얼룩수탉으로……', 1), ('말에', 1), ('허허', 1), ('웃고', 1), ('임마', 1), ('그래도', 1), ('실속이', 1), ('공연히', 1), ('열적어', 1), ('책보를', 1), ('집어던지고는', 1), ('외양간으로가', 1), ('쇠잔등을', 1), ('철썩', 1), ('갈겼다', 1), ('쇠파리라도', 1), ('개울물은', 1), ('날로', 1), ('여물어', 1), ('아래쪽으로', 1), ('갈밭머리에서', 1), ('바라보는', 1), ('마을은', 1), ('쪽빛', 1), ('하늘', 1), ('한결', 1), ('가까워', 1), ('양평읍으로', 1), ('거기', 1), ('가서는', 1), ('조그마한', 1), ('가겟방을', 1), ('되리라는', 1), ('호두알을', 1), ('손으로는', 1), ('휘어', 1), ('꺾고', 1), ('자리에', 1), ('누워서도', 1), ('생각뿐이었다', 1), ('이사하는', 1), ('가보나', 1), ('어쩌나', 1), ('가면', 1), ('어떨까', 1), ('까무룩', 1), ('잠이', 1), ('들었는가', 1), ('하는데', 1), ('허', 1), ('세상일도……', 1), ('마을', 1), ('갔던', 1), ('돌아왔는지', 1), ('댁도', 1), ('아니야', 1), ('많던', 1), ('전답을', 1), ('팔아', 1), ('버리고', 1), ('대대로', 1), ('살아오던', 1), ('집마저', 1), ('넘기더니', 1), ('악상까지', 1), ('당하는', 1), ('보면……', 1), ('남폿불', 1), ('바느질감을', 1), ('증손', 1), ('曾孫', 1), ('이라곤', 1), ('계집애', 1), ('하나뿐이었지요', 1), ('그렇지', 1), ('사내', 1), ('둘', 1), ('어려서', 1), ('잃어버리고……', 1), ('어쩌면', 1), ('그렇게', 1), ('자식복이', 1), ('없을까', 1), ('글쎄', 1), ('말이지', 1), ('앤', 1), ('여러', 1), ('앓는', 1), ('약도', 1), ('변변히', 1), ('못써', 1), ('봤다더군', 1), ('같아서', 1), ('초시네도', 1), ('대가', 1), ('끊긴', 1), ('셈이지.……그런데', 1), ('계집앤', 1), ('것이', 1), ('여간', 1), ('잔망스럽지가', 1), ('글', 1), ('쎄', 1), ('죽기', 1), ('했다지', 1), ('죽거든', 1), ('입던', 1), ('옷을', 1), ('입혀서', 1), ('묻어', 1), ('달라고……', 1)]\n"
     ]
    }
   ],
   "source": [
    "print(vocab_sorted)"
   ]
  },
  {
   "cell_type": "code",
   "execution_count": 49,
   "metadata": {},
   "outputs": [
    {
     "name": "stdout",
     "output_type": "stream",
     "text": [
      "소녀가 29\n",
      "소년은 28\n",
      "있었다 24\n",
      "? 16\n",
      "소녀의 15\n",
      "그 14\n",
      "소녀는 12\n",
      "소년이 12\n",
      "있는 10\n",
      "그러나 10\n",
      "했다 10\n",
      "날 9\n",
      "저 8\n",
      "않았다 8\n",
      "전에 8\n",
      "있다 7\n",
      "앉아 7\n",
      "안고 7\n",
      "소년의 7\n",
      "참 7\n",
      "걸 6\n",
      "뵈지 6\n",
      "하는 6\n",
      "더 6\n",
      "이게 6\n",
      "윤 5\n",
      "손을 5\n",
      "하고 5\n",
      "좀 5\n",
      "개울가로 5\n",
      "나왔다 5\n",
      "그리고는 5\n",
      "바보 5\n",
      "보았다 5\n",
      "것이었다 5\n",
      "' 5\n",
      "없이 5\n",
      "번 5\n",
      "우리 5\n",
      "게 5\n"
     ]
    }
   ],
   "source": [
    "i=0\n",
    "for (word, frequency) in vocab_sorted:\n",
    "    if frequency >= 5:\n",
    "        print(word, frequency)"
   ]
  },
  {
   "cell_type": "code",
   "execution_count": 53,
   "metadata": {},
   "outputs": [],
   "source": [
    "from nltk.corpus import stopwords\n",
    "from nltk.tokenize import word_tokenize\n",
    "import re"
   ]
  },
  {
   "cell_type": "code",
   "execution_count": 54,
   "metadata": {},
   "outputs": [],
   "source": [
    "# 위의 불용어에는 직접 정의한 불용어가 있다.\n",
    "#stop_words=set(['은','는','이','가','하','아','것','들','의','있','되','수','보','주','등','한','.',','])\n",
    "stop_words= ['은','는','이','가','하','아','것','들','의','있','되','수','보','주','등','한','.',',','(',')',\"''\",\"``\"]\n",
    "\n",
    "#stop_words=stop_words.split(',')"
   ]
  },
  {
   "cell_type": "code",
   "execution_count": 55,
   "metadata": {},
   "outputs": [],
   "source": [
    "word_tokens = word_tokenize(data2)"
   ]
  },
  {
   "cell_type": "code",
   "execution_count": 56,
   "metadata": {},
   "outputs": [],
   "source": [
    "result = []\n",
    "for w in word_tokens:\n",
    "    if w not in stop_words:\n",
    "        result.append(w)"
   ]
  },
  {
   "cell_type": "code",
   "execution_count": 57,
   "metadata": {},
   "outputs": [],
   "source": [
    "vocab = Counter(result)"
   ]
  },
  {
   "cell_type": "code",
   "execution_count": 58,
   "metadata": {},
   "outputs": [],
   "source": [
    "vocab_sorted = sorted(vocab.items(), key=lambda x:x[1], reverse=True)"
   ]
  },
  {
   "cell_type": "code",
   "execution_count": 59,
   "metadata": {},
   "outputs": [
    {
     "name": "stdout",
     "output_type": "stream",
     "text": [
      "허생원은 16\n",
      "? 16\n",
      "그 13\n",
      "벌써 7\n",
      "하고 7\n",
      "있었다 6\n",
      "다 6\n",
      "듯이 6\n",
      "없었다 6\n",
      "동이의 6\n",
      "것을 5\n",
      "때에는 5\n"
     ]
    }
   ],
   "source": [
    "i=0\n",
    "for (word, frequency) in vocab_sorted:\n",
    "    if frequency >= 5:\n",
    "        print(word, frequency)"
   ]
  },
  {
   "cell_type": "code",
   "execution_count": null,
   "metadata": {},
   "outputs": [],
   "source": []
  }
 ],
 "metadata": {
  "kernelspec": {
   "display_name": "Python 3",
   "language": "python",
   "name": "python3"
  },
  "language_info": {
   "codemirror_mode": {
    "name": "ipython",
    "version": 3
   },
   "file_extension": ".py",
   "mimetype": "text/x-python",
   "name": "python",
   "nbconvert_exporter": "python",
   "pygments_lexer": "ipython3",
   "version": "3.8.5"
  }
 },
 "nbformat": 4,
 "nbformat_minor": 4
}
