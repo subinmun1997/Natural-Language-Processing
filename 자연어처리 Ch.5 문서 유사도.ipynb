{
 "cells": [
  {
   "cell_type": "markdown",
   "metadata": {},
   "source": [
    "# 5장 내용\n",
    "\n",
    "* 문서 유사도(Document Similarity) : 두 문서가 얼마나 유사한지 비교하는 방식\n",
    "* Cosine 유사도 : 두 벡터간의 각도를 구하여 유사성을 조사\n",
    "* 유클리드 거리 : 벡터간의 거리를 측정하여 유사성을 조사\n",
    "* Jaccard 유사도 : 공통 단어의 비율을 이용하여 유사성을 조사"
   ]
  },
  {
   "cell_type": "markdown",
   "metadata": {},
   "source": [
    "# 문서 유사도(Document similarity)\n",
    "\n",
    "* 문서들 간에 동일한 단어를 얼마나 포함하는지를 통해 유사성을 검사\n",
    "* 단어들을 수치화하는 방식(DTM, Word2Vec 등)과 거리를 측정하는 방식에 의해 성능이 결정됨"
   ]
  },
  {
   "cell_type": "markdown",
   "metadata": {},
   "source": [
    "# Cosine 유사도\n",
    "\n",
    "* 문서 단어의 표현 벡터들이 이루는 각도를 통해 문서의 유사성을 판단하는 방식\n",
    "* 벡터의 크기와 내적을 이용하여 각도를 계산\n",
    "\n",
    "* similarity = cos(Θ) = A·B / ||A|| ||B|| "
   ]
  },
  {
   "cell_type": "markdown",
   "metadata": {},
   "source": [
    "# 유클리드 거리(Euclidean distance)\n",
    "\n",
    "* 벡터 공간에서 벡터간의 거리에 의해 유사성을 조사\n",
    "* 코사인 유사도에 비해 성능이 낮음"
   ]
  },
  {
   "cell_type": "markdown",
   "metadata": {},
   "source": [
    "# Jaccard 유사도\n",
    "\n",
    "* A와 B 두 집합의 유사도를 교집합의 비율에 의해 계산함\n",
    "\n",
    "* J(A,B) = |A∩B| / |A∪B| = |A∩B| / |A| + |B| - |A∪B|"
   ]
  }
 ],
 "metadata": {
  "kernelspec": {
   "display_name": "Python 3",
   "language": "python",
   "name": "python3"
  },
  "language_info": {
   "codemirror_mode": {
    "name": "ipython",
    "version": 3
   },
   "file_extension": ".py",
   "mimetype": "text/x-python",
   "name": "python",
   "nbconvert_exporter": "python",
   "pygments_lexer": "ipython3",
   "version": "3.8.5"
  }
 },
 "nbformat": 4,
 "nbformat_minor": 4
}
