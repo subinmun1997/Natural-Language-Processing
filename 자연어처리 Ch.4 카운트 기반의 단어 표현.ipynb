{
 "cells": [
  {
   "cell_type": "markdown",
   "metadata": {},
   "source": [
    "# 4장 내용\n",
    "\n",
    "1. Bag of Words(BoW) : 텍스트 데이터를 단어들의 출현 빈도로 나타내는 것\n",
    "2. 문서 단어 행렬(Document-Term Matrix) : 다수의 문서에 등장하는 단어들의 빈도를 행렬로 표시\n",
    "3. TF-IDF(Term Frequency-Inverse Document Frequency) : DTM 내의 각 단어에 가중치를 부여"
   ]
  },
  {
   "cell_type": "markdown",
   "metadata": {},
   "source": [
    "# 단어 표현(Word representation)\n",
    "\n",
    "* 단어 표현 : 각 단어를 숫자로 나타내는 방식"
   ]
  },
  {
   "cell_type": "markdown",
   "metadata": {},
   "source": [
    "# 단어 표현 방식 분류\n",
    "\n",
    "* 국소 표현(Local representation) : 각 단어에 대해 특정값을 부여하는 방식. 이산(Discrete)표현이라고도 함\n",
    "  - One-hot, n-gram, BoW 방식 등이 있음\n",
    "  - 단어의 의미나 뉘앙스를 표현할 수 없음\n",
    "  \n",
    "* 분산 표현(Distributed representation) : 해당 단어를 표현하기 위해 주변 단어를 참고. 연속(Continuous)표현이라고도 함\n",
    "  - 사례 : puppy(강아지)를 'cute, lovely한 느낌이다'라고 정의\n",
    "  - 단어의 뉘앙스를 표현할 수 있음"
   ]
  },
  {
   "cell_type": "markdown",
   "metadata": {},
   "source": [
    "# Bag of Words(BoW)\n",
    "\n",
    "* 텍스트 데이터에 각 단어들이 나온 횟수를 기록하는 것. 단어의 순서는 고려하지 않음\n",
    "* BoW를 만드는 절차\n",
    "  1. 각 단어에 고유한 정수 인덱스를 부여\n",
    "  2. 각 단어 토큰의 등장 횟수를 기록한 벡터를 관리\n",
    "* 불용어는 자연어 처리에서 별로 의미가 없으므로 BoW의 정확도를 높히려면 이들을 제거해야 함"
   ]
  },
  {
   "cell_type": "markdown",
   "metadata": {},
   "source": [
    "# 문서 단어 행렬(Document-Term Matrix: DTM)\n",
    "\n",
    "* 서로 다른 문서들의 BoW를 결합하여 만든 행렬\n",
    "* 다수의 문서에서 등장하는 각 단어들의 빈도를 행렬로 표현"
   ]
  },
  {
   "cell_type": "markdown",
   "metadata": {},
   "source": [
    "# 문서 단어 행렬의 한계\n",
    "\n",
    "* 희소 표현(sparse representation)\n",
    "  - 벡터의 크기가 단어 집합에서의 단어 수이므로 크기가 커질 수 있음\n",
    "  - 많은 단어에서 벡터 값이 0이 될 수 있음\n",
    "* 단순 빈도 수 기반 한계\n",
    "  - 중요한 단어와 불필요한 단어들이 혼재되어 있을 수 있음\n",
    "  - 두 문서가 유사한지 비교할 때 한계가 있음"
   ]
  },
  {
   "cell_type": "markdown",
   "metadata": {},
   "source": [
    "# TF-IDF(Term frequency-Inverse document frequency)\n",
    "\n",
    "* DTM 내에 있는 각 단어들의 중요도를 계산하려고 함\n",
    "* 문서들의 유사성을 비교할 때 사용할 수 있음\n",
    "* DTM을 구한 후 TF-IDF 가중치를 부여"
   ]
  },
  {
   "cell_type": "markdown",
   "metadata": {},
   "source": [
    "# TF-IDF 계산 절차\n",
    "\n",
    "* TF-IDF는 모든 문서에서 자주 등장하는 단어보다 특정 문서에서 자주 등장하는 단어가 중요도가 높다고 판단\n",
    "\n",
    "* 문서를 d, 단어를 t, 문서의 총 개수를 n이라 가정\n",
    "  - tf(d,t) : 문서 d에서 단어 t가 등장한 횟수\n",
    "  - df(t) : 특정 단어 t가 등장한 문서의 수. 단어의 등장 횟수는 고려하지 않음\n",
    "  - idf(d,t) : df(t)에 반비례하는 수. df(t)가 작을수록 idf는 커짐\n",
    "  - tf-idf : tf * idf를 계산하여 얻음"
   ]
  }
 ],
 "metadata": {
  "kernelspec": {
   "display_name": "Python 3",
   "language": "python",
   "name": "python3"
  },
  "language_info": {
   "codemirror_mode": {
    "name": "ipython",
    "version": 3
   },
   "file_extension": ".py",
   "mimetype": "text/x-python",
   "name": "python",
   "nbconvert_exporter": "python",
   "pygments_lexer": "ipython3",
   "version": "3.8.5"
  }
 },
 "nbformat": 4,
 "nbformat_minor": 4
}
